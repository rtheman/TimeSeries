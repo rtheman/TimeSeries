{
  "nbformat": 4,
  "nbformat_minor": 0,
  "metadata": {
    "colab": {
      "name": "ARIMA_pmdarima_Covid19_AUT.ipynb",
      "provenance": [],
      "collapsed_sections": [],
      "toc_visible": true,
      "authorship_tag": "ABX9TyPglV6CQPIG+sTPm8BgtAdx",
      "include_colab_link": true
    },
    "kernelspec": {
      "name": "python3",
      "display_name": "Python 3"
    }
  },
  "cells": [
    {
      "cell_type": "markdown",
      "metadata": {
        "id": "view-in-github",
        "colab_type": "text"
      },
      "source": [
        "<a href=\"https://colab.research.google.com/github/rtheman/TimeSeries/blob/master/ARIMA_pmdarima_Covid19_AUT.ipynb\" target=\"_parent\"><img src=\"https://colab.research.google.com/assets/colab-badge.svg\" alt=\"Open In Colab\"/></a>"
      ]
    },
    {
      "cell_type": "markdown",
      "metadata": {
        "id": "7Nq7eiVaooNN",
        "colab_type": "text"
      },
      "source": [
        "# ARIMA\n",
        "\n",
        "Inspired by https://alkaline-ml.com/pmdarima/usecases/sun-spots.html#fitting-a-baseline\n",
        "\n",
        "**Dataset**: COVID-19 Active Cases of 🇦🇹 (Austria) from https://www.worldometers.info/coronavirus/\n",
        "\n",
        "**REF**\n",
        "- Matplotlib https://colab.research.google.com/github/jakevdp/PythonDataScienceHandbook/blob/master/notebooks/04.00-Introduction-To-Matplotlib.ipynb#scrollTo=nQVfJzSfxBre"
      ]
    },
    {
      "cell_type": "markdown",
      "metadata": {
        "id": "63ZMkEx7ovXM",
        "colab_type": "text"
      },
      "source": [
        "# 1.) Init. Environments & Libraries"
      ]
    },
    {
      "cell_type": "code",
      "metadata": {
        "id": "iwA259L_ohML",
        "colab_type": "code",
        "colab": {
          "base_uri": "https://localhost:8080/",
          "height": 496
        },
        "outputId": "3a23cbca-da62-4c36-e3dc-44dc33ed659c"
      },
      "source": [
        "import pandas as pd\n",
        "import numpy as np\n",
        "\n",
        "! pip install pmdarima"
      ],
      "execution_count": null,
      "outputs": [
        {
          "output_type": "stream",
          "text": [
            "Collecting pmdarima\n",
            "\u001b[?25l  Downloading https://files.pythonhosted.org/packages/4b/15/0dfc38deb2f5582b79baff6523b245d6a3dbe877e3fb96a1ee39ec63b626/pmdarima-1.6.1-cp36-cp36m-manylinux1_x86_64.whl (1.5MB)\n",
            "\u001b[K     |████████████████████████████████| 1.5MB 2.8MB/s \n",
            "\u001b[?25hRequirement already satisfied: urllib3 in /usr/local/lib/python3.6/dist-packages (from pmdarima) (1.24.3)\n",
            "Collecting statsmodels>=0.11\n",
            "\u001b[?25l  Downloading https://files.pythonhosted.org/packages/cb/83/540fd83238a18abe6c2d280fa8e489ac5fcefa1f370f0ca1acd16ae1b860/statsmodels-0.11.1-cp36-cp36m-manylinux1_x86_64.whl (8.7MB)\n",
            "\u001b[K     |████████████████████████████████| 8.7MB 16.1MB/s \n",
            "\u001b[?25hRequirement already satisfied: numpy>=1.17.3 in /usr/local/lib/python3.6/dist-packages (from pmdarima) (1.18.5)\n",
            "Requirement already satisfied: scikit-learn>=0.22 in /usr/local/lib/python3.6/dist-packages (from pmdarima) (0.22.2.post1)\n",
            "Requirement already satisfied: scipy>=1.3.2 in /usr/local/lib/python3.6/dist-packages (from pmdarima) (1.4.1)\n",
            "Collecting Cython<0.29.18,>=0.29\n",
            "\u001b[?25l  Downloading https://files.pythonhosted.org/packages/e7/d7/510ddef0248f3e1e91f9cc7e31c0f35f8954d0af92c5c3fd4c853e859ebe/Cython-0.29.17-cp36-cp36m-manylinux1_x86_64.whl (2.1MB)\n",
            "\u001b[K     |████████████████████████████████| 2.1MB 43.4MB/s \n",
            "\u001b[?25hRequirement already satisfied: pandas>=0.19 in /usr/local/lib/python3.6/dist-packages (from pmdarima) (1.0.5)\n",
            "Requirement already satisfied: joblib>=0.11 in /usr/local/lib/python3.6/dist-packages (from pmdarima) (0.15.1)\n",
            "Requirement already satisfied: patsy>=0.5 in /usr/local/lib/python3.6/dist-packages (from statsmodels>=0.11->pmdarima) (0.5.1)\n",
            "Requirement already satisfied: python-dateutil>=2.6.1 in /usr/local/lib/python3.6/dist-packages (from pandas>=0.19->pmdarima) (2.8.1)\n",
            "Requirement already satisfied: pytz>=2017.2 in /usr/local/lib/python3.6/dist-packages (from pandas>=0.19->pmdarima) (2018.9)\n",
            "Requirement already satisfied: six in /usr/local/lib/python3.6/dist-packages (from patsy>=0.5->statsmodels>=0.11->pmdarima) (1.12.0)\n",
            "Installing collected packages: statsmodels, Cython, pmdarima\n",
            "  Found existing installation: statsmodels 0.10.2\n",
            "    Uninstalling statsmodels-0.10.2:\n",
            "      Successfully uninstalled statsmodels-0.10.2\n",
            "  Found existing installation: Cython 0.29.20\n",
            "    Uninstalling Cython-0.29.20:\n",
            "      Successfully uninstalled Cython-0.29.20\n",
            "Successfully installed Cython-0.29.17 pmdarima-1.6.1 statsmodels-0.11.1\n"
          ],
          "name": "stdout"
        }
      ]
    },
    {
      "cell_type": "markdown",
      "metadata": {
        "id": "KKM3BoY3p80m",
        "colab_type": "text"
      },
      "source": [
        "## a. Mount Google Drive (G-Drive)"
      ]
    },
    {
      "cell_type": "code",
      "metadata": {
        "id": "H_XquSXkpTKI",
        "colab_type": "code",
        "colab": {
          "base_uri": "https://localhost:8080/",
          "height": 34
        },
        "outputId": "82f4d81c-b2c7-40fa-8e8f-f63a548e7ed8"
      },
      "source": [
        "from google.colab import drive\n",
        "drive.mount('/content/g_drive')"
      ],
      "execution_count": null,
      "outputs": [
        {
          "output_type": "stream",
          "text": [
            "Drive already mounted at /content/g_drive; to attempt to forcibly remount, call drive.mount(\"/content/g_drive\", force_remount=True).\n"
          ],
          "name": "stdout"
        }
      ]
    },
    {
      "cell_type": "markdown",
      "metadata": {
        "id": "kx0kekSJqS0d",
        "colab_type": "text"
      },
      "source": [
        "## b. Connect Google Cloud Storage (GCS)"
      ]
    },
    {
      "cell_type": "code",
      "metadata": {
        "id": "S4SQwAQ0qAHD",
        "colab_type": "code",
        "colab": {}
      },
      "source": [
        "# from google.colab import auth\n",
        "# auth.authenticate_user()"
      ],
      "execution_count": null,
      "outputs": []
    },
    {
      "cell_type": "markdown",
      "metadata": {
        "id": "zAxYr95kqc9P",
        "colab_type": "text"
      },
      "source": [
        "Paramaterize Project ID and Bucket Name"
      ]
    },
    {
      "cell_type": "code",
      "metadata": {
        "id": "KbHgbp83qdU9",
        "colab_type": "code",
        "colab": {}
      },
      "source": [
        "# project_id = 'rleung-sandbox'\n",
        "# bucket_name = 'samples_data'"
      ],
      "execution_count": null,
      "outputs": []
    },
    {
      "cell_type": "markdown",
      "metadata": {
        "id": "ePFBwerLqo9o",
        "colab_type": "text"
      },
      "source": [
        "# 2.) Download Data"
      ]
    },
    {
      "cell_type": "markdown",
      "metadata": {
        "id": "UQqygv98stmH",
        "colab_type": "text"
      },
      "source": [
        "## a. from G-Drive\n",
        "\n",
        "Init. Parameters"
      ]
    },
    {
      "cell_type": "code",
      "metadata": {
        "id": "dvWnjSTrqmsZ",
        "colab_type": "code",
        "colab": {}
      },
      "source": [
        "data_URL = \"./g_drive/My Drive/Colab Notebooks/data/_Samples/\"\n",
        "data_FileName = \"COVID19_Active_Cases_AUT.csv\"\n",
        "path = data_URL + data_FileName"
      ],
      "execution_count": null,
      "outputs": []
    },
    {
      "cell_type": "markdown",
      "metadata": {
        "id": "xH89MGyttBOy",
        "colab_type": "text"
      },
      "source": [
        "Ingest data from G-Drive"
      ]
    },
    {
      "cell_type": "code",
      "metadata": {
        "id": "vYE4Yofxs6kC",
        "colab_type": "code",
        "colab": {
          "base_uri": "https://localhost:8080/",
          "height": 233
        },
        "outputId": "740a7431-7e01-49ae-b4e9-c6ff293a44cd"
      },
      "source": [
        "df = pd.read_csv(path, parse_dates=['Dates'], index_col='Dates')\n",
        "df.tail()"
      ],
      "execution_count": null,
      "outputs": [
        {
          "output_type": "execute_result",
          "data": {
            "text/html": [
              "<div>\n",
              "<style scoped>\n",
              "    .dataframe tbody tr th:only-of-type {\n",
              "        vertical-align: middle;\n",
              "    }\n",
              "\n",
              "    .dataframe tbody tr th {\n",
              "        vertical-align: top;\n",
              "    }\n",
              "\n",
              "    .dataframe thead th {\n",
              "        text-align: right;\n",
              "    }\n",
              "</style>\n",
              "<table border=\"1\" class=\"dataframe\">\n",
              "  <thead>\n",
              "    <tr style=\"text-align: right;\">\n",
              "      <th></th>\n",
              "      <th>Active_Cases</th>\n",
              "    </tr>\n",
              "    <tr>\n",
              "      <th>Dates</th>\n",
              "      <th></th>\n",
              "    </tr>\n",
              "  </thead>\n",
              "  <tbody>\n",
              "    <tr>\n",
              "      <th>2020-04-29</th>\n",
              "      <td>2204</td>\n",
              "    </tr>\n",
              "    <tr>\n",
              "      <th>2020-04-30</th>\n",
              "      <td>2071</td>\n",
              "    </tr>\n",
              "    <tr>\n",
              "      <th>2020-05-01</th>\n",
              "      <td>1946</td>\n",
              "    </tr>\n",
              "    <tr>\n",
              "      <th>2020-05-02</th>\n",
              "      <td>1858</td>\n",
              "    </tr>\n",
              "    <tr>\n",
              "      <th>2020-05-03</th>\n",
              "      <td>1795</td>\n",
              "    </tr>\n",
              "  </tbody>\n",
              "</table>\n",
              "</div>"
            ],
            "text/plain": [
              "            Active_Cases\n",
              "Dates                   \n",
              "2020-04-29          2204\n",
              "2020-04-30          2071\n",
              "2020-05-01          1946\n",
              "2020-05-02          1858\n",
              "2020-05-03          1795"
            ]
          },
          "metadata": {
            "tags": []
          },
          "execution_count": 34
        }
      ]
    },
    {
      "cell_type": "markdown",
      "metadata": {
        "id": "cDOFlajuuJ6v",
        "colab_type": "text"
      },
      "source": [
        "# 3.) Explore Data\n",
        "\n",
        "Inspired by https://alkaline-ml.com/pmdarima/usecases/sun-spots.html#fitting-a-baseline"
      ]
    },
    {
      "cell_type": "code",
      "metadata": {
        "id": "9yqduKgEtMHB",
        "colab_type": "code",
        "colab": {
          "base_uri": "https://localhost:8080/",
          "height": 34
        },
        "outputId": "836d2632-4090-4008-8d85-053d9ce318a6"
      },
      "source": [
        "import pandas.util.testing as tm\n",
        "import pmdarima as pm\n",
        "from pmdarima.datasets import load_sunspots\n",
        "from pmdarima.model_selection import train_test_split\n",
        "print(f\"Using pmdarima {pm.__version__}\")\n",
        "# Using pmdarima 1.6.0"
      ],
      "execution_count": null,
      "outputs": [
        {
          "output_type": "stream",
          "text": [
            "Using pmdarima 1.6.0\n"
          ],
          "name": "stdout"
        }
      ]
    },
    {
      "cell_type": "markdown",
      "metadata": {
        "id": "ZUF9bagLvjKB",
        "colab_type": "text"
      },
      "source": [
        "## a. Split dataset into Training and Validation\n",
        "\n",
        "Take last 7-days as Validation dataset, leaving 70-days as Testing dataset."
      ]
    },
    {
      "cell_type": "code",
      "metadata": {
        "id": "eLKcBZrqvn1C",
        "colab_type": "code",
        "colab": {
          "base_uri": "https://localhost:8080/",
          "height": 233
        },
        "outputId": "4a53f638-cbcd-4e45-bdf7-10f6d762830a"
      },
      "source": [
        "valid_len = 7\n",
        "train_len = len(df) - valid_len\n",
        "y_train, y_vali = train_test_split(df, train_size=train_len)\n",
        "y_train.tail()"
      ],
      "execution_count": null,
      "outputs": [
        {
          "output_type": "execute_result",
          "data": {
            "text/html": [
              "<div>\n",
              "<style scoped>\n",
              "    .dataframe tbody tr th:only-of-type {\n",
              "        vertical-align: middle;\n",
              "    }\n",
              "\n",
              "    .dataframe tbody tr th {\n",
              "        vertical-align: top;\n",
              "    }\n",
              "\n",
              "    .dataframe thead th {\n",
              "        text-align: right;\n",
              "    }\n",
              "</style>\n",
              "<table border=\"1\" class=\"dataframe\">\n",
              "  <thead>\n",
              "    <tr style=\"text-align: right;\">\n",
              "      <th></th>\n",
              "      <th>Active_Cases</th>\n",
              "    </tr>\n",
              "    <tr>\n",
              "      <th>Dates</th>\n",
              "      <th></th>\n",
              "    </tr>\n",
              "  </thead>\n",
              "  <tbody>\n",
              "    <tr>\n",
              "      <th>2020-04-22</th>\n",
              "      <td>3397</td>\n",
              "    </tr>\n",
              "    <tr>\n",
              "      <th>2020-04-23</th>\n",
              "      <td>3094</td>\n",
              "    </tr>\n",
              "    <tr>\n",
              "      <th>2020-04-24</th>\n",
              "      <td>2847</td>\n",
              "    </tr>\n",
              "    <tr>\n",
              "      <th>2020-04-25</th>\n",
              "      <td>2655</td>\n",
              "    </tr>\n",
              "    <tr>\n",
              "      <th>2020-04-26</th>\n",
              "      <td>2526</td>\n",
              "    </tr>\n",
              "  </tbody>\n",
              "</table>\n",
              "</div>"
            ],
            "text/plain": [
              "            Active_Cases\n",
              "Dates                   \n",
              "2020-04-22          3397\n",
              "2020-04-23          3094\n",
              "2020-04-24          2847\n",
              "2020-04-25          2655\n",
              "2020-04-26          2526"
            ]
          },
          "metadata": {
            "tags": []
          },
          "execution_count": 36
        }
      ]
    },
    {
      "cell_type": "markdown",
      "metadata": {
        "id": "RDPJg_MOvTt0",
        "colab_type": "text"
      },
      "source": [
        "## b. Visualize dataset"
      ]
    },
    {
      "cell_type": "code",
      "metadata": {
        "id": "tC8XPpThuXNy",
        "colab_type": "code",
        "colab": {
          "base_uri": "https://localhost:8080/",
          "height": 441
        },
        "outputId": "7e5adf1c-bd7c-449e-ee1e-9e2bc74809aa"
      },
      "source": [
        "from pmdarima.utils import tsdisplay\n",
        "\n",
        "tsdisplay(y_train, lag_max=train_len-1, title=\"COVID-19 Active Cases in Austria\", show=True)"
      ],
      "execution_count": null,
      "outputs": [
        {
          "output_type": "display_data",
          "data": {
            "image/png": "[encoded data removed]",
            "text/plain": [
              "<Figure size 576x432 with 3 Axes>"
            ]
          },
          "metadata": {
            "tags": [],
            "needs_background": "light"
          }
        }
      ]
    },
    {
      "cell_type": "markdown",
      "metadata": {
        "id": "cXXB3N_nZxmP",
        "colab_type": "text"
      },
      "source": [
        "Looking at the histogram. It is very zero-inflated. A lot of the statistical techniques used in time series modeling behave better when the data is **normally distributed**, so this may be something to look into."
      ]
    },
    {
      "cell_type": "markdown",
      "metadata": {
        "id": "WZvf9uKCZ5U9",
        "colab_type": "text"
      },
      "source": [
        "# 4.) Fitting a baseline model\n",
        "\n",
        "Before we start manipulating our data, let’s examine what would happen if we just fit a model straight out of the box:"
      ]
    },
    {
      "cell_type": "code",
      "metadata": {
        "id": "InxYDFX9Ox8c",
        "colab_type": "code",
        "colab": {
          "base_uri": "https://localhost:8080/",
          "height": 817
        },
        "outputId": "e167a909-9b2a-4a27-9bd1-672ba9fa90ba"
      },
      "source": [
        "fit_base = pm.auto_arima(\n",
        "    y_train,\n",
        "    trace=True,\n",
        "    suppress_warnings=True\n",
        ")\n",
        "\n",
        "print(fit_base.summary())"
      ],
      "execution_count": null,
      "outputs": [
        {
          "output_type": "stream",
          "text": [
            "Performing stepwise search to minimize aic\n",
            "Fit ARIMA(2,1,2)x(0,0,0,0) [intercept=True]; AIC=801.705, BIC=815.281, Time=0.154 seconds\n",
            "Fit ARIMA(0,1,0)x(0,0,0,0) [intercept=True]; AIC=1023.076, BIC=1027.602, Time=0.010 seconds\n",
            "Fit ARIMA(1,1,0)x(0,0,0,0) [intercept=True]; AIC=835.096, BIC=841.884, Time=0.031 seconds\n",
            "Fit ARIMA(0,1,1)x(0,0,0,0) [intercept=True]; AIC=956.793, BIC=963.581, Time=0.087 seconds\n",
            "Fit ARIMA(0,1,0)x(0,0,0,0) [intercept=False]; AIC=1021.967, BIC=1024.230, Time=0.008 seconds\n",
            "Fit ARIMA(1,1,2)x(0,0,0,0) [intercept=True]; AIC=812.781, BIC=824.094, Time=0.238 seconds\n",
            "Near non-invertible roots for order (1, 1, 2)(0, 0, 0, 0); setting score to inf (at least one inverse root too close to the border of the unit circle: 1.000)\n",
            "Fit ARIMA(2,1,1)x(0,0,0,0) [intercept=True]; AIC=837.463, BIC=848.777, Time=0.162 seconds\n",
            "Fit ARIMA(3,1,2)x(0,0,0,0) [intercept=True]; AIC=803.443, BIC=819.281, Time=0.200 seconds\n",
            "Fit ARIMA(2,1,3)x(0,0,0,0) [intercept=True]; AIC=803.661, BIC=819.500, Time=0.318 seconds\n",
            "Near non-invertible roots for order (2, 1, 3)(0, 0, 0, 0); setting score to inf (at least one inverse root too close to the border of the unit circle: 0.999)\n",
            "Fit ARIMA(1,1,1)x(0,0,0,0) [intercept=True]; AIC=834.551, BIC=843.602, Time=0.091 seconds\n",
            "Fit ARIMA(1,1,3)x(0,0,0,0) [intercept=True]; AIC=803.163, BIC=816.739, Time=0.323 seconds\n",
            "Near non-invertible roots for order (1, 1, 3)(0, 0, 0, 0); setting score to inf (at least one inverse root too close to the border of the unit circle: 1.000)\n",
            "Fit ARIMA(3,1,1)x(0,0,0,0) [intercept=True]; AIC=822.074, BIC=835.651, Time=0.169 seconds\n",
            "Fit ARIMA(3,1,3)x(0,0,0,0) [intercept=True]; AIC=805.160, BIC=823.261, Time=0.424 seconds\n",
            "Total fit time: 2.230 seconds\n",
            "                           Statespace Model Results                           \n",
            "==============================================================================\n",
            "Dep. Variable:                      y   No. Observations:                   72\n",
            "Model:               SARIMAX(2, 1, 2)   Log Likelihood                -394.852\n",
            "Date:                Mon, 04 May 2020   AIC                            801.705\n",
            "Time:                        21:10:49   BIC                            815.281\n",
            "Sample:                             0   HQIC                           807.104\n",
            "                                 - 72                                         \n",
            "Covariance Type:                  opg                                         \n",
            "==============================================================================\n",
            "                 coef    std err          z      P>|z|      [0.025      0.975]\n",
            "------------------------------------------------------------------------------\n",
            "intercept      0.8705     25.579      0.034      0.973     -49.263      51.004\n",
            "ar.L1          0.1371      0.067      2.038      0.042       0.005       0.269\n",
            "ar.L2          0.7450      0.073     10.161      0.000       0.601       0.889\n",
            "ma.L1          1.3380      0.073     18.274      0.000       1.194       1.481\n",
            "ma.L2          0.8265      0.059     13.913      0.000       0.710       0.943\n",
            "sigma2      3667.8610    494.781      7.413      0.000    2698.108    4637.614\n",
            "===================================================================================\n",
            "Ljung-Box (Q):                       30.37   Jarque-Bera (JB):                 7.89\n",
            "Prob(Q):                              0.86   Prob(JB):                         0.02\n",
            "Heteroskedasticity (H):             640.77   Skew:                            -0.10\n",
            "Prob(H) (two-sided):                  0.00   Kurtosis:                         4.62\n",
            "===================================================================================\n",
            "\n",
            "Warnings:\n",
            "[1] Covariance matrix calculated using the outer product of gradients (complex-step).\n"
          ],
          "name": "stdout"
        }
      ]
    },
    {
      "cell_type": "markdown",
      "metadata": {
        "id": "UsDoxUgra5RR",
        "colab_type": "text"
      },
      "source": [
        "# 5.) Transform Data\n",
        "\n",
        "Since we expect our model to perform better over more normal data, let’s experiment with (1.) Log transformations and the (2.) [Box-Cox transformation](https://en.wikipedia.org/wiki/Power_transform#Box%E2%80%93Cox_transformation), each of which is provided as an endogenous transformer in the Pmdarima package."
      ]
    },
    {
      "cell_type": "markdown",
      "metadata": {
        "id": "mKNBWukfby4G",
        "colab_type": "text"
      },
      "source": [
        "## Log Transformation"
      ]
    },
    {
      "cell_type": "code",
      "metadata": {
        "id": "jLTQgfw1avhH",
        "colab_type": "code",
        "colab": {
          "base_uri": "https://localhost:8080/",
          "height": 441
        },
        "outputId": "2c3631e9-0399-4054-a658-834598b03f53"
      },
      "source": [
        "from pmdarima.preprocessing import LogEndogTransformer\n",
        "\n",
        "y_train_log, _ = LogEndogTransformer(lmbda=1e-6).fit_transform(y_train)\n",
        "tsdisplay(y_train_log, lag_max=train_len-1)"
      ],
      "execution_count": null,
      "outputs": [
        {
          "output_type": "display_data",
          "data": {
            "image/png": "[encoded data removed]",
            "text/plain": [
              "<Figure size 576x432 with 3 Axes>"
            ]
          },
          "metadata": {
            "tags": [],
            "needs_background": "light"
          }
        }
      ]
    },
    {
      "cell_type": "code",
      "metadata": {
        "id": "Uqz_UaGLSOA9",
        "colab_type": "code",
        "colab": {
          "base_uri": "https://localhost:8080/",
          "height": 34
        },
        "outputId": "881db71b-023b-49a6-8cdb-c0e17ab292bf"
      },
      "source": [
        "from scipy.stats import normaltest\n",
        "normaltest(y_train_log)[1]"
      ],
      "execution_count": null,
      "outputs": [
        {
          "output_type": "execute_result",
          "data": {
            "text/plain": [
              "1.0748815918431733e-06"
            ]
          },
          "metadata": {
            "tags": []
          },
          "execution_count": 40
        }
      ]
    },
    {
      "cell_type": "markdown",
      "metadata": {
        "id": "WZm3Uaxkb3Eo",
        "colab_type": "text"
      },
      "source": [
        "## Box-Cox transformation"
      ]
    },
    {
      "cell_type": "code",
      "metadata": {
        "id": "bcOf6L2pbdUX",
        "colab_type": "code",
        "colab": {
          "base_uri": "https://localhost:8080/",
          "height": 441
        },
        "outputId": "82ff4048-55fa-4d2e-ad8a-7aa2d1331c41"
      },
      "source": [
        "from pmdarima.preprocessing import BoxCoxEndogTransformer\n",
        "\n",
        "y_train_bc, _ = BoxCoxEndogTransformer(lmbda2=1e-6).fit_transform(y_train)\n",
        "tsdisplay(y_train_bc, lag_max=train_len-1)"
      ],
      "execution_count": null,
      "outputs": [
        {
          "output_type": "display_data",
          "data": {
            "image/png": "[encoded data removed]",
            "text/plain": [
              "<Figure size 576x432 with 3 Axes>"
            ]
          },
          "metadata": {
            "tags": [],
            "needs_background": "light"
          }
        }
      ]
    },
    {
      "cell_type": "code",
      "metadata": {
        "id": "iq5GmlBUSWic",
        "colab_type": "code",
        "colab": {
          "base_uri": "https://localhost:8080/",
          "height": 34
        },
        "outputId": "7b0a50ee-d99e-4fff-958d-9e69870435dd"
      },
      "source": [
        "normaltest(y_train_bc)[1]"
      ],
      "execution_count": null,
      "outputs": [
        {
          "output_type": "execute_result",
          "data": {
            "text/plain": [
              "0.0018850861975009633"
            ]
          },
          "metadata": {
            "tags": []
          },
          "execution_count": 42
        }
      ]
    },
    {
      "cell_type": "markdown",
      "metadata": {
        "id": "D886y5Zm4NnU",
        "colab_type": "text"
      },
      "source": [
        "# 6.) Fitting a transformed model\n",
        "\n",
        "Pmdarima implements a scikit-learn-esque pipeline used to chain transformations and estimators together. Using this, we can centralize the entire transformer/model fit into one metaestimator:"
      ]
    },
    {
      "cell_type": "markdown",
      "metadata": {
        "id": "snl3uQAeSt50",
        "colab_type": "text"
      },
      "source": [
        "## a. Log Transformation"
      ]
    },
    {
      "cell_type": "code",
      "metadata": {
        "id": "uzwn_eQWTH_Z",
        "colab_type": "code",
        "colab": {
          "base_uri": "https://localhost:8080/",
          "height": 381
        },
        "outputId": "b5dcb2b1-6462-4ab1-9ce0-872b643b2f49"
      },
      "source": [
        "from pmdarima.pipeline import Pipeline\n",
        "\n",
        "fit_log = Pipeline([\n",
        "    ('log', LogEndogTransformer(lmbda=1e-6)),\n",
        "    ('arima', pm.AutoARIMA(trace=True,\n",
        "                           suppress_warnings=True\n",
        "                           )\n",
        "    )\n",
        "])\n",
        "\n",
        "fit_log.fit(y_train)\n",
        "\n",
        "print(fit_log.summary())"
      ],
      "execution_count": null,
      "outputs": [
        {
          "output_type": "error",
          "ename": "ValueError",
          "evalue": "ignored",
          "traceback": [
            "\u001b[0;31m---------------------------------------------------------------------------\u001b[0m",
            "\u001b[0;31mValueError\u001b[0m                                Traceback (most recent call last)",
            "\u001b[0;32m<ipython-input-43-3d31064344c0>\u001b[0m in \u001b[0;36m<module>\u001b[0;34m()\u001b[0m\n\u001b[1;32m      9\u001b[0m ])\n\u001b[1;32m     10\u001b[0m \u001b[0;34m\u001b[0m\u001b[0m\n\u001b[0;32m---> 11\u001b[0;31m \u001b[0mfit_log\u001b[0m\u001b[0;34m.\u001b[0m\u001b[0mfit\u001b[0m\u001b[0;34m(\u001b[0m\u001b[0my_train\u001b[0m\u001b[0;34m)\u001b[0m\u001b[0;34m\u001b[0m\u001b[0;34m\u001b[0m\u001b[0m\n\u001b[0m\u001b[1;32m     12\u001b[0m \u001b[0;34m\u001b[0m\u001b[0m\n\u001b[1;32m     13\u001b[0m \u001b[0mprint\u001b[0m\u001b[0;34m(\u001b[0m\u001b[0mfit_log\u001b[0m\u001b[0;34m.\u001b[0m\u001b[0msummary\u001b[0m\u001b[0;34m(\u001b[0m\u001b[0;34m)\u001b[0m\u001b[0;34m)\u001b[0m\u001b[0;34m\u001b[0m\u001b[0;34m\u001b[0m\u001b[0m\n",
            "\u001b[0;32m/usr/local/lib/python3.6/dist-packages/pmdarima/pipeline.py\u001b[0m in \u001b[0;36mfit\u001b[0;34m(self, y, exogenous, **fit_kwargs)\u001b[0m\n\u001b[1;32m    207\u001b[0m             \u001b[0mcloned_transformer\u001b[0m \u001b[0;34m=\u001b[0m \u001b[0mclone\u001b[0m\u001b[0;34m(\u001b[0m\u001b[0mtransformer\u001b[0m\u001b[0;34m)\u001b[0m\u001b[0;34m\u001b[0m\u001b[0;34m\u001b[0m\u001b[0m\n\u001b[1;32m    208\u001b[0m             \u001b[0mkwargs\u001b[0m \u001b[0;34m=\u001b[0m \u001b[0mnamed_kwargs\u001b[0m\u001b[0;34m[\u001b[0m\u001b[0mname\u001b[0m\u001b[0;34m]\u001b[0m\u001b[0;34m\u001b[0m\u001b[0;34m\u001b[0m\u001b[0m\n\u001b[0;32m--> 209\u001b[0;31m             \u001b[0myt\u001b[0m\u001b[0;34m,\u001b[0m \u001b[0mXt\u001b[0m \u001b[0;34m=\u001b[0m \u001b[0mcloned_transformer\u001b[0m\u001b[0;34m.\u001b[0m\u001b[0mfit_transform\u001b[0m\u001b[0;34m(\u001b[0m\u001b[0myt\u001b[0m\u001b[0;34m,\u001b[0m \u001b[0mXt\u001b[0m\u001b[0;34m,\u001b[0m \u001b[0;34m**\u001b[0m\u001b[0mkwargs\u001b[0m\u001b[0;34m)\u001b[0m\u001b[0;34m\u001b[0m\u001b[0;34m\u001b[0m\u001b[0m\n\u001b[0m\u001b[1;32m    210\u001b[0m \u001b[0;34m\u001b[0m\u001b[0m\n\u001b[1;32m    211\u001b[0m             \u001b[0;31m# Replace the transformer of the step with the fitted\u001b[0m\u001b[0;34m\u001b[0m\u001b[0;34m\u001b[0m\u001b[0;34m\u001b[0m\u001b[0m\n",
            "\u001b[0;32m/usr/local/lib/python3.6/dist-packages/pmdarima/preprocessing/base.py\u001b[0m in \u001b[0;36mfit_transform\u001b[0;34m(self, y, exogenous, **transform_kwargs)\u001b[0m\n\u001b[1;32m     56\u001b[0m         \"\"\"\n\u001b[1;32m     57\u001b[0m         \u001b[0mself\u001b[0m\u001b[0;34m.\u001b[0m\u001b[0mfit\u001b[0m\u001b[0;34m(\u001b[0m\u001b[0my\u001b[0m\u001b[0;34m,\u001b[0m \u001b[0mexogenous\u001b[0m\u001b[0;34m)\u001b[0m\u001b[0;34m\u001b[0m\u001b[0;34m\u001b[0m\u001b[0m\n\u001b[0;32m---> 58\u001b[0;31m         \u001b[0;32mreturn\u001b[0m \u001b[0mself\u001b[0m\u001b[0;34m.\u001b[0m\u001b[0mtransform\u001b[0m\u001b[0;34m(\u001b[0m\u001b[0my\u001b[0m\u001b[0;34m,\u001b[0m \u001b[0mexogenous\u001b[0m\u001b[0;34m,\u001b[0m \u001b[0;34m**\u001b[0m\u001b[0mtransform_kwargs\u001b[0m\u001b[0;34m)\u001b[0m\u001b[0;34m\u001b[0m\u001b[0;34m\u001b[0m\u001b[0m\n\u001b[0m\u001b[1;32m     59\u001b[0m \u001b[0;34m\u001b[0m\u001b[0m\n\u001b[1;32m     60\u001b[0m     \u001b[0;34m@\u001b[0m\u001b[0mabc\u001b[0m\u001b[0;34m.\u001b[0m\u001b[0mabstractmethod\u001b[0m\u001b[0;34m\u001b[0m\u001b[0;34m\u001b[0m\u001b[0m\n",
            "\u001b[0;32m/usr/local/lib/python3.6/dist-packages/pmdarima/preprocessing/endog/log.py\u001b[0m in \u001b[0;36mtransform\u001b[0;34m(self, y, exogenous, **transform_kwargs)\u001b[0m\n\u001b[1;32m     73\u001b[0m             \u001b[0mThe\u001b[0m \u001b[0mexog\u001b[0m \u001b[0marray\u001b[0m\u001b[0;34m\u001b[0m\u001b[0;34m\u001b[0m\u001b[0m\n\u001b[1;32m     74\u001b[0m         \"\"\"\n\u001b[0;32m---> 75\u001b[0;31m         \u001b[0;32mreturn\u001b[0m \u001b[0msuper\u001b[0m\u001b[0;34m(\u001b[0m\u001b[0;34m)\u001b[0m\u001b[0;34m.\u001b[0m\u001b[0mtransform\u001b[0m\u001b[0;34m(\u001b[0m\u001b[0my\u001b[0m\u001b[0;34m,\u001b[0m \u001b[0mexogenous\u001b[0m\u001b[0;34m,\u001b[0m \u001b[0;34m**\u001b[0m\u001b[0mtransform_kwargs\u001b[0m\u001b[0;34m)\u001b[0m\u001b[0;34m\u001b[0m\u001b[0;34m\u001b[0m\u001b[0m\n\u001b[0m\u001b[1;32m     76\u001b[0m \u001b[0;34m\u001b[0m\u001b[0m\n\u001b[1;32m     77\u001b[0m     \u001b[0;32mdef\u001b[0m \u001b[0minverse_transform\u001b[0m\u001b[0;34m(\u001b[0m\u001b[0mself\u001b[0m\u001b[0;34m,\u001b[0m \u001b[0my\u001b[0m\u001b[0;34m,\u001b[0m \u001b[0mexogenous\u001b[0m\u001b[0;34m=\u001b[0m\u001b[0;32mNone\u001b[0m\u001b[0;34m)\u001b[0m\u001b[0;34m:\u001b[0m\u001b[0;34m\u001b[0m\u001b[0;34m\u001b[0m\u001b[0m\n",
            "\u001b[0;32m/usr/local/lib/python3.6/dist-packages/pmdarima/preprocessing/endog/boxcox.py\u001b[0m in \u001b[0;36mtransform\u001b[0;34m(self, y, exogenous, **_)\u001b[0m\n\u001b[1;32m    117\u001b[0m             \u001b[0mmsg\u001b[0m \u001b[0;34m=\u001b[0m \u001b[0;34m\"Negative or zero values present in y\"\u001b[0m\u001b[0;34m\u001b[0m\u001b[0;34m\u001b[0m\u001b[0m\n\u001b[1;32m    118\u001b[0m             \u001b[0;32mif\u001b[0m \u001b[0maction\u001b[0m \u001b[0;34m==\u001b[0m \u001b[0;34m\"raise\"\u001b[0m\u001b[0;34m:\u001b[0m\u001b[0;34m\u001b[0m\u001b[0;34m\u001b[0m\u001b[0m\n\u001b[0;32m--> 119\u001b[0;31m                 \u001b[0;32mraise\u001b[0m \u001b[0mValueError\u001b[0m\u001b[0;34m(\u001b[0m\u001b[0mmsg\u001b[0m\u001b[0;34m)\u001b[0m\u001b[0;34m\u001b[0m\u001b[0;34m\u001b[0m\u001b[0m\n\u001b[0m\u001b[1;32m    120\u001b[0m             \u001b[0;32melif\u001b[0m \u001b[0maction\u001b[0m \u001b[0;34m==\u001b[0m \u001b[0;34m\"warn\"\u001b[0m\u001b[0;34m:\u001b[0m\u001b[0;34m\u001b[0m\u001b[0;34m\u001b[0m\u001b[0m\n\u001b[1;32m    121\u001b[0m                 \u001b[0mwarnings\u001b[0m\u001b[0;34m.\u001b[0m\u001b[0mwarn\u001b[0m\u001b[0;34m(\u001b[0m\u001b[0mmsg\u001b[0m\u001b[0;34m,\u001b[0m \u001b[0mUserWarning\u001b[0m\u001b[0;34m)\u001b[0m\u001b[0;34m\u001b[0m\u001b[0;34m\u001b[0m\u001b[0m\n",
            "\u001b[0;31mValueError\u001b[0m: Negative or zero values present in y"
          ]
        }
      ]
    },
    {
      "cell_type": "markdown",
      "metadata": {
        "id": "C-rjUNA1S0L9",
        "colab_type": "text"
      },
      "source": [
        "## b. Box-Cox Transformation"
      ]
    },
    {
      "cell_type": "code",
      "metadata": {
        "id": "NLQ2piM0cL7A",
        "colab_type": "code",
        "colab": {
          "base_uri": "https://localhost:8080/",
          "height": 606
        },
        "outputId": "d154b2fb-fac3-4c98-bcd3-d953cf1474e4"
      },
      "source": [
        "fit_boxcox = Pipeline([\n",
        "    ('boxcox', BoxCoxEndogTransformer(lmbda2=1e-6)),\n",
        "    ('arima', pm.AutoARIMA(trace=True,\n",
        "                           suppress_warnings=True\n",
        "                           )\n",
        "    )\n",
        "])\n",
        "\n",
        "fit_boxcox.fit(y_train)\n",
        "\n",
        "print(fit_boxcox.summary())"
      ],
      "execution_count": null,
      "outputs": [
        {
          "output_type": "stream",
          "text": [
            "Performing stepwise search to minimize aic\n",
            "Fit ARIMA(2,2,2)x(0,0,0,0) [intercept=True]; AIC=158.827, BIC=172.318, Time=0.354 seconds\n",
            "Fit ARIMA(0,2,0)x(0,0,0,0) [intercept=True]; AIC=196.955, BIC=201.452, Time=0.018 seconds\n",
            "Fit ARIMA(1,2,0)x(0,0,0,0) [intercept=True]; AIC=168.785, BIC=175.531, Time=0.045 seconds\n",
            "Fit ARIMA(0,2,1)x(0,0,0,0) [intercept=True]; AIC=154.844, BIC=161.590, Time=0.155 seconds\n",
            "Fit ARIMA(0,2,0)x(0,0,0,0) [intercept=False]; AIC=194.956, BIC=197.204, Time=0.011 seconds\n",
            "Fit ARIMA(1,2,1)x(0,0,0,0) [intercept=True]; AIC=156.142, BIC=165.136, Time=0.099 seconds\n",
            "Fit ARIMA(0,2,2)x(0,0,0,0) [intercept=True]; AIC=156.318, BIC=165.312, Time=0.076 seconds\n",
            "Fit ARIMA(1,2,2)x(0,0,0,0) [intercept=True]; AIC=157.804, BIC=169.047, Time=0.124 seconds\n",
            "Total fit time: 0.889 seconds\n",
            "                           Statespace Model Results                           \n",
            "==============================================================================\n",
            "Dep. Variable:                      y   No. Observations:                   72\n",
            "Model:               SARIMAX(0, 2, 1)   Log Likelihood                 -74.422\n",
            "Date:                Mon, 04 May 2020   AIC                            154.844\n",
            "Time:                        21:11:17   BIC                            161.590\n",
            "Sample:                             0   HQIC                           157.524\n",
            "                                 - 72                                         \n",
            "Covariance Type:                  opg                                         \n",
            "==============================================================================\n",
            "                 coef    std err          z      P>|z|      [0.025      0.975]\n",
            "------------------------------------------------------------------------------\n",
            "intercept     -0.0104      0.046     -0.225      0.822      -0.101       0.080\n",
            "ma.L1         -0.8743      0.142     -6.166      0.000      -1.152      -0.596\n",
            "sigma2         0.4809      0.050      9.589      0.000       0.383       0.579\n",
            "===================================================================================\n",
            "Ljung-Box (Q):                        4.90   Jarque-Bera (JB):              9481.91\n",
            "Prob(Q):                              1.00   Prob(JB):                         0.00\n",
            "Heteroskedasticity (H):               0.02   Skew:                             7.24\n",
            "Prob(H) (two-sided):                  0.00   Kurtosis:                        58.15\n",
            "===================================================================================\n",
            "\n",
            "Warnings:\n",
            "[1] Covariance matrix calculated using the outer product of gradients (complex-step).\n"
          ],
          "name": "stdout"
        }
      ]
    },
    {
      "cell_type": "markdown",
      "metadata": {
        "id": "HFfsQghJ7Q3T",
        "colab_type": "text"
      },
      "source": [
        "# 7.) Forecast\n",
        "\n",
        "Forecast the next 7-days"
      ]
    },
    {
      "cell_type": "code",
      "metadata": {
        "id": "aF0JZm1Y5Eou",
        "colab_type": "code",
        "colab": {
          "base_uri": "https://localhost:8080/",
          "height": 86
        },
        "outputId": "4f090746-06a4-4eb9-b4a0-871f463c2e02"
      },
      "source": [
        "# Forecast\n",
        "import numpy as np\n",
        "\n",
        "model = fit_base\n",
        "forecast, conf_int = model.predict(n_periods=valid_len, return_conf_int=True)\n",
        "print(\"\\nForecasts:\")\n",
        "print(forecast)"
      ],
      "execution_count": null,
      "outputs": [
        {
          "output_type": "stream",
          "text": [
            "\n",
            "Forecasts:\n",
            "[2369.35513649 2246.73405963 2114.09147352 2005.42122824 1892.57297133\n",
            " 1797.01042934 1700.70606692]\n"
          ],
          "name": "stdout"
        }
      ]
    },
    {
      "cell_type": "markdown",
      "metadata": {
        "id": "khOHQzYH856-",
        "colab_type": "text"
      },
      "source": [
        "## a. Visualize Forecast"
      ]
    },
    {
      "cell_type": "markdown",
      "metadata": {
        "id": "syuNJfuoXvYl",
        "colab_type": "text"
      },
      "source": [
        "### Set-up Plots"
      ]
    },
    {
      "cell_type": "code",
      "metadata": {
        "id": "eWJRX5c-X0zQ",
        "colab_type": "code",
        "colab": {
          "base_uri": "https://localhost:8080/",
          "height": 193
        },
        "outputId": "6570f719-80c3-4f7f-8a7e-ddb8bd9adea7"
      },
      "source": [
        "import matplotlib as mpl\n",
        "import matplotlib.pyplot as plt\n",
        "\n",
        "! pip install mplcursors\n",
        "import mplcursors\n",
        "\n",
        "%matplotlib inline\n",
        "\n",
        "plt.figure()  # create a plot figure\n",
        "mpl.rcParams['figure.figsize'] = (20, 15)"
      ],
      "execution_count": null,
      "outputs": [
        {
          "output_type": "stream",
          "text": [
            "Requirement already satisfied: mplcursors in /usr/local/lib/python3.6/dist-packages (0.3)\n",
            "Requirement already satisfied: matplotlib>=3.1 in /usr/local/lib/python3.6/dist-packages (from mplcursors) (3.2.1)\n",
            "Requirement already satisfied: cycler>=0.10 in /usr/local/lib/python3.6/dist-packages (from matplotlib>=3.1->mplcursors) (0.10.0)\n",
            "Requirement already satisfied: pyparsing!=2.0.4,!=2.1.2,!=2.1.6,>=2.0.1 in /usr/local/lib/python3.6/dist-packages (from matplotlib>=3.1->mplcursors) (2.4.7)\n",
            "Requirement already satisfied: numpy>=1.11 in /usr/local/lib/python3.6/dist-packages (from matplotlib>=3.1->mplcursors) (1.18.3)\n",
            "Requirement already satisfied: python-dateutil>=2.1 in /usr/local/lib/python3.6/dist-packages (from matplotlib>=3.1->mplcursors) (2.8.1)\n",
            "Requirement already satisfied: kiwisolver>=1.0.1 in /usr/local/lib/python3.6/dist-packages (from matplotlib>=3.1->mplcursors) (1.2.0)\n",
            "Requirement already satisfied: six in /usr/local/lib/python3.6/dist-packages (from cycler>=0.10->matplotlib>=3.1->mplcursors) (1.12.0)\n"
          ],
          "name": "stdout"
        },
        {
          "output_type": "display_data",
          "data": {
            "text/plain": [
              "<Figure size 432x288 with 0 Axes>"
            ]
          },
          "metadata": {
            "tags": []
          }
        }
      ]
    },
    {
      "cell_type": "markdown",
      "metadata": {
        "id": "On16NtdMX4hG",
        "colab_type": "text"
      },
      "source": [
        "### Visualize Goodness of Fit"
      ]
    },
    {
      "cell_type": "code",
      "metadata": {
        "id": "MC65xhsdX8mg",
        "colab_type": "code",
        "colab": {}
      },
      "source": [
        "# Visualize goodness of fit\n",
        "in_sample_forecast, in_sample_confint = model.predict_in_sample(exogenous=None, return_conf_int=True)"
      ],
      "execution_count": null,
      "outputs": []
    },
    {
      "cell_type": "markdown",
      "metadata": {
        "id": "OyrmGosXX-0s",
        "colab_type": "text"
      },
      "source": [
        "### Actual vs. Forecast w/ Test Dataset"
      ]
    },
    {
      "cell_type": "code",
      "metadata": {
        "id": "NqtbwDyM81g8",
        "colab_type": "code",
        "colab": {
          "base_uri": "https://localhost:8080/",
          "height": 905
        },
        "outputId": "fa56d25b-378f-48ae-d3b0-1e3a9a306f39"
      },
      "source": [
        "# Now plot the results and the forecast for the test set\n",
        "x_axis = np.arange(y_train.shape[0] + forecast.shape[0])\n",
        "\n",
        "# Training data\n",
        "plt.plot(x_axis[:y_train.shape[0]], y_train, alpha=0.75, label='Training')\n",
        "# Forecast from ARIMA model\n",
        "plt.scatter(x_axis[y_train.shape[0]:], forecast, alpha=0.4, marker='o', label='Forecast')\n",
        "plt.fill_between(x_axis[-forecast.shape[0]:], conf_int[:, 0], conf_int[:, 1], alpha=0.1, color='b')\n",
        "# Validation data\n",
        "plt.scatter(x_axis[y_train.shape[0]:], y_vali, alpha=0.4, marker='x', label='Validation')\n",
        "# In-Samples Forecast\n",
        "plt.scatter(x_axis[:in_sample_forecast.shape[0]], in_sample_forecast, alpha=0.4, marker='x', label=\"In-Sample Forecast\")\n",
        "plt.fill_between(x_axis[:in_sample_forecast.shape[0]], in_sample_confint[:, 0], in_sample_confint[:, 1], alpha=0.1, color='c')\n",
        "\n",
        "plt.title('Train Samples & Forecasted Test Samples')\n",
        "plt.legend()\n",
        "plt.xlabel((0, x_axis.shape[0]))\n",
        "plt.ylabel('Active Cases (AUT)')\n",
        "mplcursors.cursor(hover=True)\n",
        "# mplcursors.cursor()"
      ],
      "execution_count": null,
      "outputs": [
        {
          "output_type": "execute_result",
          "data": {
            "text/plain": [
              "<mplcursors._mplcursors.Cursor at 0x7fec8bd62898>"
            ]
          },
          "metadata": {
            "tags": []
          },
          "execution_count": 50
        },
        {
          "output_type": "display_data",
          "data": {
            "image/png": "[encoded data removed]",
            "text/plain": [
              "<Figure size 1440x1080 with 1 Axes>"
            ]
          },
          "metadata": {
            "tags": [],
            "needs_background": "light"
          }
        }
      ]
    },
    {
      "cell_type": "markdown",
      "metadata": {
        "id": "cw8Ae8vzYLtp",
        "colab_type": "text"
      },
      "source": [
        "### Comparison btw Actuals & Forecast"
      ]
    },
    {
      "cell_type": "code",
      "metadata": {
        "id": "tzLOTobDILRW",
        "colab_type": "code",
        "colab": {
          "base_uri": "https://localhost:8080/",
          "height": 294
        },
        "outputId": "669fda2c-5187-4de3-d364-66f129a742ff"
      },
      "source": [
        "df_fcast = y_vali.copy()\n",
        "df_fcast['Forecast'] = forecast\n",
        "df_fcast['difference'] = df_fcast['Forecast'] - df_fcast['Active_Cases']\n",
        "df_fcast"
      ],
      "execution_count": null,
      "outputs": [
        {
          "output_type": "execute_result",
          "data": {
            "text/html": [
              "<div>\n",
              "<style scoped>\n",
              "    .dataframe tbody tr th:only-of-type {\n",
              "        vertical-align: middle;\n",
              "    }\n",
              "\n",
              "    .dataframe tbody tr th {\n",
              "        vertical-align: top;\n",
              "    }\n",
              "\n",
              "    .dataframe thead th {\n",
              "        text-align: right;\n",
              "    }\n",
              "</style>\n",
              "<table border=\"1\" class=\"dataframe\">\n",
              "  <thead>\n",
              "    <tr style=\"text-align: right;\">\n",
              "      <th></th>\n",
              "      <th>Active_Cases</th>\n",
              "      <th>Forecast</th>\n",
              "      <th>difference</th>\n",
              "    </tr>\n",
              "    <tr>\n",
              "      <th>Dates</th>\n",
              "      <th></th>\n",
              "      <th></th>\n",
              "      <th></th>\n",
              "    </tr>\n",
              "  </thead>\n",
              "  <tbody>\n",
              "    <tr>\n",
              "      <th>2020-04-27</th>\n",
              "      <td>2425</td>\n",
              "      <td>2369.355136</td>\n",
              "      <td>-55.644864</td>\n",
              "    </tr>\n",
              "    <tr>\n",
              "      <th>2020-04-28</th>\n",
              "      <td>2324</td>\n",
              "      <td>2246.734060</td>\n",
              "      <td>-77.265940</td>\n",
              "    </tr>\n",
              "    <tr>\n",
              "      <th>2020-04-29</th>\n",
              "      <td>2204</td>\n",
              "      <td>2114.091474</td>\n",
              "      <td>-89.908526</td>\n",
              "    </tr>\n",
              "    <tr>\n",
              "      <th>2020-04-30</th>\n",
              "      <td>2071</td>\n",
              "      <td>2005.421228</td>\n",
              "      <td>-65.578772</td>\n",
              "    </tr>\n",
              "    <tr>\n",
              "      <th>2020-05-01</th>\n",
              "      <td>1946</td>\n",
              "      <td>1892.572971</td>\n",
              "      <td>-53.427029</td>\n",
              "    </tr>\n",
              "    <tr>\n",
              "      <th>2020-05-02</th>\n",
              "      <td>1858</td>\n",
              "      <td>1797.010429</td>\n",
              "      <td>-60.989571</td>\n",
              "    </tr>\n",
              "    <tr>\n",
              "      <th>2020-05-03</th>\n",
              "      <td>1795</td>\n",
              "      <td>1700.706067</td>\n",
              "      <td>-94.293933</td>\n",
              "    </tr>\n",
              "  </tbody>\n",
              "</table>\n",
              "</div>"
            ],
            "text/plain": [
              "            Active_Cases     Forecast  difference\n",
              "Dates                                            \n",
              "2020-04-27          2425  2369.355136  -55.644864\n",
              "2020-04-28          2324  2246.734060  -77.265940\n",
              "2020-04-29          2204  2114.091474  -89.908526\n",
              "2020-04-30          2071  2005.421228  -65.578772\n",
              "2020-05-01          1946  1892.572971  -53.427029\n",
              "2020-05-02          1858  1797.010429  -60.989571\n",
              "2020-05-03          1795  1700.706067  -94.293933"
            ]
          },
          "metadata": {
            "tags": []
          },
          "execution_count": 51
        }
      ]
    },
    {
      "cell_type": "markdown",
      "metadata": {
        "id": "sOEeTd5mYT_c",
        "colab_type": "text"
      },
      "source": [
        "## b. Update Forecast"
      ]
    },
    {
      "cell_type": "markdown",
      "metadata": {
        "id": "8yjymsYLYYbV",
        "colab_type": "text"
      },
      "source": [
        "### Add the actual samples (validation dataset) to the model and crate NEW forecast"
      ]
    },
    {
      "cell_type": "code",
      "metadata": {
        "id": "8LfBc9gXYSBi",
        "colab_type": "code",
        "colab": {
          "base_uri": "https://localhost:8080/",
          "height": 86
        },
        "outputId": "d4298b23-c13f-4814-aa75-f2d505b2a7c2"
      },
      "source": [
        "fit_base.update(y_vali)\n",
        "\n",
        "model = fit_base\n",
        "\n",
        "new_forecast, new_conf_int  = model.predict(n_periods=valid_len, return_conf_int=True)\n",
        "print(\"\\nNew Forecast:\")\n",
        "print(new_forecast)"
      ],
      "execution_count": null,
      "outputs": [
        {
          "output_type": "stream",
          "text": [
            "\n",
            "New Forecast:\n",
            "[1754.35843381 1699.54255508 1662.3856553  1617.82414742 1584.81253268\n",
            " 1548.30310585 1519.56218237]\n"
          ],
          "name": "stdout"
        }
      ]
    },
    {
      "cell_type": "markdown",
      "metadata": {
        "id": "aWiNQM3HYiq0",
        "colab_type": "text"
      },
      "source": [
        "### Actual vs (New) Forecast"
      ]
    },
    {
      "cell_type": "code",
      "metadata": {
        "id": "28ffpLgfYfP-",
        "colab_type": "code",
        "colab": {
          "base_uri": "https://localhost:8080/",
          "height": 910
        },
        "outputId": "b5b6f20d-0a4f-447d-bfc2-9542e5ae9ae3"
      },
      "source": [
        "# Now Plot results and the new forecast\n",
        "new_x_axis = np.arange(df.shape[0] + valid_len)\n",
        "\n",
        "# Training (Actual) data\n",
        "plt.plot(new_x_axis[:df.shape[0]], df, alpha=0.75, label='Actual')\n",
        "# New Forecast data\n",
        "plt.scatter(new_x_axis[df.shape[0]:], new_forecast, alpha=0.4, marker='o', label='Forecast')\n",
        "plt.fill_between(new_x_axis[-forecast.shape[0]:], new_conf_int[:, 0], new_conf_int[:, 1], alpha=0.1, color='b')\n",
        "\n",
        "plt.title('Added new observed values with new forecast')\n",
        "plt.legend()\n",
        "plt.xlabel((0, x_axis.shape[0]))\n",
        "plt.ylabel('Active Cases (AUT)')"
      ],
      "execution_count": null,
      "outputs": [
        {
          "output_type": "execute_result",
          "data": {
            "text/plain": [
              "Text(0, 0.5, 'Active Cases (AUT)')"
            ]
          },
          "metadata": {
            "tags": []
          },
          "execution_count": 53
        },
        {
          "output_type": "display_data",
          "data": {
            "image/png": "[encoded data removed]",
            "text/plain": [
              "<Figure size 1440x1080 with 1 Axes>"
            ]
          },
          "metadata": {
            "tags": [],
            "needs_background": "light"
          }
        }
      ]
    },
    {
      "cell_type": "code",
      "metadata": {
        "id": "J3w3F8mFZFZO",
        "colab_type": "code",
        "colab": {
          "base_uri": "https://localhost:8080/",
          "height": 264
        },
        "outputId": "78fba1ed-673b-4bcc-d638-ffebeb7d7de7"
      },
      "source": [
        "import datetime\n",
        "\n",
        "start_date = df.index[-1]\n",
        "start_date += datetime.timedelta(days=1)\n",
        "\n",
        "df_forecast_index = pd.date_range(start_date, periods=7, freq='D')\n",
        "# df_forecast_index\n",
        "\n",
        "data = {'Active_Cases':new_forecast}\n",
        "# data\n",
        "\n",
        "df_forecast = pd.DataFrame(data, index = df_forecast_index)\n",
        "df_forecast"
      ],
      "execution_count": null,
      "outputs": [
        {
          "output_type": "execute_result",
          "data": {
            "text/html": [
              "<div>\n",
              "<style scoped>\n",
              "    .dataframe tbody tr th:only-of-type {\n",
              "        vertical-align: middle;\n",
              "    }\n",
              "\n",
              "    .dataframe tbody tr th {\n",
              "        vertical-align: top;\n",
              "    }\n",
              "\n",
              "    .dataframe thead th {\n",
              "        text-align: right;\n",
              "    }\n",
              "</style>\n",
              "<table border=\"1\" class=\"dataframe\">\n",
              "  <thead>\n",
              "    <tr style=\"text-align: right;\">\n",
              "      <th></th>\n",
              "      <th>Active_Cases</th>\n",
              "    </tr>\n",
              "  </thead>\n",
              "  <tbody>\n",
              "    <tr>\n",
              "      <th>2020-05-04</th>\n",
              "      <td>1754.358434</td>\n",
              "    </tr>\n",
              "    <tr>\n",
              "      <th>2020-05-05</th>\n",
              "      <td>1699.542555</td>\n",
              "    </tr>\n",
              "    <tr>\n",
              "      <th>2020-05-06</th>\n",
              "      <td>1662.385655</td>\n",
              "    </tr>\n",
              "    <tr>\n",
              "      <th>2020-05-07</th>\n",
              "      <td>1617.824147</td>\n",
              "    </tr>\n",
              "    <tr>\n",
              "      <th>2020-05-08</th>\n",
              "      <td>1584.812533</td>\n",
              "    </tr>\n",
              "    <tr>\n",
              "      <th>2020-05-09</th>\n",
              "      <td>1548.303106</td>\n",
              "    </tr>\n",
              "    <tr>\n",
              "      <th>2020-05-10</th>\n",
              "      <td>1519.562182</td>\n",
              "    </tr>\n",
              "  </tbody>\n",
              "</table>\n",
              "</div>"
            ],
            "text/plain": [
              "            Active_Cases\n",
              "2020-05-04   1754.358434\n",
              "2020-05-05   1699.542555\n",
              "2020-05-06   1662.385655\n",
              "2020-05-07   1617.824147\n",
              "2020-05-08   1584.812533\n",
              "2020-05-09   1548.303106\n",
              "2020-05-10   1519.562182"
            ]
          },
          "metadata": {
            "tags": []
          },
          "execution_count": 55
        }
      ]
    }
  ]
}