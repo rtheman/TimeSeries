{
  "nbformat": 4,
  "nbformat_minor": 0,
  "metadata": {
    "colab": {
      "name": "ARIMA_pmdarima_Covid19_DEU.ipynb",
      "provenance": [],
      "collapsed_sections": [],
      "toc_visible": true,
      "authorship_tag": "ABX9TyNg2u1nnH2s03iXRxovPA27",
      "include_colab_link": true
    },
    "kernelspec": {
      "name": "python3",
      "display_name": "Python 3"
    }
  },
  "cells": [
    {
      "cell_type": "markdown",
      "metadata": {
        "id": "view-in-github",
        "colab_type": "text"
      },
      "source": [
        "<a href=\"https://colab.research.google.com/github/rtheman/TimeSeries/blob/master/ARIMA_pmdarima_Covid19_DEU.ipynb\" target=\"_parent\"><img src=\"https://colab.research.google.com/assets/colab-badge.svg\" alt=\"Open In Colab\"/></a>"
      ]
    },
    {
      "cell_type": "markdown",
      "metadata": {
        "id": "5QrT7T-O5vyS",
        "colab_type": "text"
      },
      "source": [
        "# ARIMA\n",
        "\n",
        "Inspired by https://alkaline-ml.com/pmdarima/usecases/sun-spots.html#fitting-a-baseline\n",
        "\n",
        "**Dataset**: COVID-19 Active Cases of 🇩🇪 (Germany) from https://www.worldometers.info/coronavirus/\n",
        "\n",
        "**REF**\n",
        "- Matplotlib https://colab.research.google.com/github/jakevdp/PythonDataScienceHandbook/blob/master/notebooks/04.00-Introduction-To-Matplotlib.ipynb#scrollTo=nQVfJzSfxBre"
      ]
    },
    {
      "cell_type": "markdown",
      "metadata": {
        "id": "sEiCBDmh59NG",
        "colab_type": "text"
      },
      "source": [
        "# 1.) Init. Environments & Libraries"
      ]
    },
    {
      "cell_type": "code",
      "metadata": {
        "id": "P-pa7ytN528a",
        "colab_type": "code",
        "colab": {
          "base_uri": "https://localhost:8080/",
          "height": 456
        },
        "outputId": "afbdd5b5-47e7-4855-ee26-3bf8d644f2ff"
      },
      "source": [
        "import pandas as pd\n",
        "import numpy as np\n",
        "\n",
        "! pip install pmdarima"
      ],
      "execution_count": null,
      "outputs": [
        {
          "output_type": "stream",
          "text": [
            "Collecting pmdarima\n",
            "\u001b[?25l  Downloading https://files.pythonhosted.org/packages/4b/15/0dfc38deb2f5582b79baff6523b245d6a3dbe877e3fb96a1ee39ec63b626/pmdarima-1.6.1-cp36-cp36m-manylinux1_x86_64.whl (1.5MB)\n",
            "\r\u001b[K     |▎                               | 10kB 21.9MB/s eta 0:00:01\r\u001b[K     |▌                               | 20kB 5.8MB/s eta 0:00:01\r\u001b[K     |▊                               | 30kB 7.5MB/s eta 0:00:01\r\u001b[K     |█                               | 40kB 6.9MB/s eta 0:00:01\r\u001b[K     |█▏                              | 51kB 6.4MB/s eta 0:00:01\r\u001b[K     |█▍                              | 61kB 6.7MB/s eta 0:00:01\r\u001b[K     |█▋                              | 71kB 7.3MB/s eta 0:00:01\r\u001b[K     |█▉                              | 81kB 7.1MB/s eta 0:00:01\r\u001b[K     |██                              | 92kB 7.2MB/s eta 0:00:01\r\u001b[K     |██▎                             | 102kB 7.0MB/s eta 0:00:01\r\u001b[K     |██▌                             | 112kB 7.0MB/s eta 0:00:01\r\u001b[K     |██▊                             | 122kB 7.0MB/s eta 0:00:01\r\u001b[K     |███                             | 133kB 7.0MB/s eta 0:00:01\r\u001b[K     |███▏                            | 143kB 7.0MB/s eta 0:00:01\r\u001b[K     |███▍                            | 153kB 7.0MB/s eta 0:00:01\r\u001b[K     |███▋                            | 163kB 7.0MB/s eta 0:00:01\r\u001b[K     |███▉                            | 174kB 7.0MB/s eta 0:00:01\r\u001b[K     |████                            | 184kB 7.0MB/s eta 0:00:01\r\u001b[K     |████▎                           | 194kB 7.0MB/s eta 0:00:01\r\u001b[K     |████▌                           | 204kB 7.0MB/s eta 0:00:01\r\u001b[K     |████▊                           | 215kB 7.0MB/s eta 0:00:01\r\u001b[K     |█████                           | 225kB 7.0MB/s eta 0:00:01\r\u001b[K     |█████▏                          | 235kB 7.0MB/s eta 0:00:01\r\u001b[K     |█████▍                          | 245kB 7.0MB/s eta 0:00:01\r\u001b[K     |█████▋                          | 256kB 7.0MB/s eta 0:00:01\r\u001b[K     |█████▉                          | 266kB 7.0MB/s eta 0:00:01\r\u001b[K     |██████                          | 276kB 7.0MB/s eta 0:00:01\r\u001b[K     |██████▎                         | 286kB 7.0MB/s eta 0:00:01\r\u001b[K     |██████▌                         | 296kB 7.0MB/s eta 0:00:01\r\u001b[K     |██████▊                         | 307kB 7.0MB/s eta 0:00:01\r\u001b[K     |███████                         | 317kB 7.0MB/s eta 0:00:01\r\u001b[K     |███████▏                        | 327kB 7.0MB/s eta 0:00:01\r\u001b[K     |███████▍                        | 337kB 7.0MB/s eta 0:00:01\r\u001b[K     |███████▋                        | 348kB 7.0MB/s eta 0:00:01\r\u001b[K     |███████▉                        | 358kB 7.0MB/s eta 0:00:01\r\u001b[K     |████████                        | 368kB 7.0MB/s eta 0:00:01\r\u001b[K     |████████▎                       | 378kB 7.0MB/s eta 0:00:01\r\u001b[K     |████████▌                       | 389kB 7.0MB/s eta 0:00:01\r\u001b[K     |████████▊                       | 399kB 7.0MB/s eta 0:00:01\r\u001b[K     |█████████                       | 409kB 7.0MB/s eta 0:00:01\r\u001b[K     |█████████▏                      | 419kB 7.0MB/s eta 0:00:01\r\u001b[K     |█████████▌                      | 430kB 7.0MB/s eta 0:00:01\r\u001b[K     |█████████▊                      | 440kB 7.0MB/s eta 0:00:01\r\u001b[K     |██████████                      | 450kB 7.0MB/s eta 0:00:01\r\u001b[K     |██████████▏                     | 460kB 7.0MB/s eta 0:00:01\r\u001b[K     |██████████▍                     | 471kB 7.0MB/s eta 0:00:01\r\u001b[K     |██████████▋                     | 481kB 7.0MB/s eta 0:00:01\r\u001b[K     |██████████▉                     | 491kB 7.0MB/s eta 0:00:01\r\u001b[K     |███████████                     | 501kB 7.0MB/s eta 0:00:01\r\u001b[K     |███████████▎                    | 512kB 7.0MB/s eta 0:00:01\r\u001b[K     |███████████▌                    | 522kB 7.0MB/s eta 0:00:01\r\u001b[K     |███████████▊                    | 532kB 7.0MB/s eta 0:00:01\r\u001b[K     |████████████                    | 542kB 7.0MB/s eta 0:00:01\r\u001b[K     |████████████▏                   | 552kB 7.0MB/s eta 0:00:01\r\u001b[K     |████████████▍                   | 563kB 7.0MB/s eta 0:00:01\r\u001b[K     |████████████▋                   | 573kB 7.0MB/s eta 0:00:01\r\u001b[K     |████████████▉                   | 583kB 7.0MB/s eta 0:00:01\r\u001b[K     |█████████████                   | 593kB 7.0MB/s eta 0:00:01\r\u001b[K     |█████████████▎                  | 604kB 7.0MB/s eta 0:00:01\r\u001b[K     |█████████████▌                  | 614kB 7.0MB/s eta 0:00:01\r\u001b[K     |█████████████▊                  | 624kB 7.0MB/s eta 0:00:01\r\u001b[K     |██████████████                  | 634kB 7.0MB/s eta 0:00:01\r\u001b[K     |██████████████▏                 | 645kB 7.0MB/s eta 0:00:01\r\u001b[K     |██████████████▍                 | 655kB 7.0MB/s eta 0:00:01\r\u001b[K     |██████████████▋                 | 665kB 7.0MB/s eta 0:00:01\r\u001b[K     |██████████████▉                 | 675kB 7.0MB/s eta 0:00:01\r\u001b[K     |███████████████                 | 686kB 7.0MB/s eta 0:00:01\r\u001b[K     |███████████████▎                | 696kB 7.0MB/s eta 0:00:01\r\u001b[K     |███████████████▌                | 706kB 7.0MB/s eta 0:00:01\r\u001b[K     |███████████████▊                | 716kB 7.0MB/s eta 0:00:01\r\u001b[K     |████████████████                | 727kB 7.0MB/s eta 0:00:01\r\u001b[K     |████████████████▏               | 737kB 7.0MB/s eta 0:00:01\r\u001b[K     |████████████████▍               | 747kB 7.0MB/s eta 0:00:01\r\u001b[K     |████████████████▋               | 757kB 7.0MB/s eta 0:00:01\r\u001b[K     |████████████████▉               | 768kB 7.0MB/s eta 0:00:01\r\u001b[K     |█████████████████               | 778kB 7.0MB/s eta 0:00:01\r\u001b[K     |█████████████████▎              | 788kB 7.0MB/s eta 0:00:01\r\u001b[K     |█████████████████▌              | 798kB 7.0MB/s eta 0:00:01\r\u001b[K     |█████████████████▊              | 808kB 7.0MB/s eta 0:00:01\r\u001b[K     |██████████████████              | 819kB 7.0MB/s eta 0:00:01\r\u001b[K     |██████████████████▏             | 829kB 7.0MB/s eta 0:00:01\r\u001b[K     |██████████████████▍             | 839kB 7.0MB/s eta 0:00:01\r\u001b[K     |██████████████████▊             | 849kB 7.0MB/s eta 0:00:01\r\u001b[K     |███████████████████             | 860kB 7.0MB/s eta 0:00:01\r\u001b[K     |███████████████████▏            | 870kB 7.0MB/s eta 0:00:01\r\u001b[K     |███████████████████▍            | 880kB 7.0MB/s eta 0:00:01\r\u001b[K     |███████████████████▋            | 890kB 7.0MB/s eta 0:00:01\r\u001b[K     |███████████████████▉            | 901kB 7.0MB/s eta 0:00:01\r\u001b[K     |████████████████████            | 911kB 7.0MB/s eta 0:00:01\r\u001b[K     |████████████████████▎           | 921kB 7.0MB/s eta 0:00:01\r\u001b[K     |████████████████████▌           | 931kB 7.0MB/s eta 0:00:01\r\u001b[K     |████████████████████▊           | 942kB 7.0MB/s eta 0:00:01\r\u001b[K     |█████████████████████           | 952kB 7.0MB/s eta 0:00:01\r\u001b[K     |█████████████████████▏          | 962kB 7.0MB/s eta 0:00:01\r\u001b[K     |█████████████████████▍          | 972kB 7.0MB/s eta 0:00:01\r\u001b[K     |█████████████████████▋          | 983kB 7.0MB/s eta 0:00:01\r\u001b[K     |█████████████████████▉          | 993kB 7.0MB/s eta 0:00:01\r\u001b[K     |██████████████████████          | 1.0MB 7.0MB/s eta 0:00:01\r\u001b[K     |██████████████████████▎         | 1.0MB 7.0MB/s eta 0:00:01\r\u001b[K     |██████████████████████▌         | 1.0MB 7.0MB/s eta 0:00:01\r\u001b[K     |██████████████████████▊         | 1.0MB 7.0MB/s eta 0:00:01\r\u001b[K     |███████████████████████         | 1.0MB 7.0MB/s eta 0:00:01\r\u001b[K     |███████████████████████▏        | 1.1MB 7.0MB/s eta 0:00:01\r\u001b[K     |███████████████████████▍        | 1.1MB 7.0MB/s eta 0:00:01\r\u001b[K     |███████████████████████▋        | 1.1MB 7.0MB/s eta 0:00:01\r\u001b[K     |███████████████████████▉        | 1.1MB 7.0MB/s eta 0:00:01\r\u001b[K     |████████████████████████        | 1.1MB 7.0MB/s eta 0:00:01\r\u001b[K     |████████████████████████▎       | 1.1MB 7.0MB/s eta 0:00:01\r\u001b[K     |████████████████████████▌       | 1.1MB 7.0MB/s eta 0:00:01\r\u001b[K     |████████████████████████▊       | 1.1MB 7.0MB/s eta 0:00:01\r\u001b[K     |█████████████████████████       | 1.1MB 7.0MB/s eta 0:00:01\r\u001b[K     |█████████████████████████▏      | 1.1MB 7.0MB/s eta 0:00:01\r\u001b[K     |█████████████████████████▍      | 1.2MB 7.0MB/s eta 0:00:01\r\u001b[K     |█████████████████████████▋      | 1.2MB 7.0MB/s eta 0:00:01\r\u001b[K     |█████████████████████████▉      | 1.2MB 7.0MB/s eta 0:00:01\r\u001b[K     |██████████████████████████      | 1.2MB 7.0MB/s eta 0:00:01\r\u001b[K     |██████████████████████████▎     | 1.2MB 7.0MB/s eta 0:00:01\r\u001b[K     |██████████████████████████▌     | 1.2MB 7.0MB/s eta 0:00:01\r\u001b[K     |██████████████████████████▊     | 1.2MB 7.0MB/s eta 0:00:01\r\u001b[K     |███████████████████████████     | 1.2MB 7.0MB/s eta 0:00:01\r\u001b[K     |███████████████████████████▏    | 1.2MB 7.0MB/s eta 0:00:01\r\u001b[K     |███████████████████████████▍    | 1.2MB 7.0MB/s eta 0:00:01\r\u001b[K     |███████████████████████████▋    | 1.3MB 7.0MB/s eta 0:00:01\r\u001b[K     |████████████████████████████    | 1.3MB 7.0MB/s eta 0:00:01\r\u001b[K     |████████████████████████████▏   | 1.3MB 7.0MB/s eta 0:00:01\r\u001b[K     |████████████████████████████▍   | 1.3MB 7.0MB/s eta 0:00:01\r\u001b[K     |████████████████████████████▋   | 1.3MB 7.0MB/s eta 0:00:01\r\u001b[K     |████████████████████████████▉   | 1.3MB 7.0MB/s eta 0:00:01\r\u001b[K     |█████████████████████████████   | 1.3MB 7.0MB/s eta 0:00:01\r\u001b[K     |█████████████████████████████▎  | 1.3MB 7.0MB/s eta 0:00:01\r\u001b[K     |█████████████████████████████▌  | 1.3MB 7.0MB/s eta 0:00:01\r\u001b[K     |█████████████████████████████▊  | 1.4MB 7.0MB/s eta 0:00:01\r\u001b[K     |██████████████████████████████  | 1.4MB 7.0MB/s eta 0:00:01\r\u001b[K     |██████████████████████████████▏ | 1.4MB 7.0MB/s eta 0:00:01\r\u001b[K     |██████████████████████████████▍ | 1.4MB 7.0MB/s eta 0:00:01\r\u001b[K     |██████████████████████████████▋ | 1.4MB 7.0MB/s eta 0:00:01\r\u001b[K     |██████████████████████████████▉ | 1.4MB 7.0MB/s eta 0:00:01\r\u001b[K     |███████████████████████████████ | 1.4MB 7.0MB/s eta 0:00:01\r\u001b[K     |███████████████████████████████▎| 1.4MB 7.0MB/s eta 0:00:01\r\u001b[K     |███████████████████████████████▌| 1.4MB 7.0MB/s eta 0:00:01\r\u001b[K     |███████████████████████████████▊| 1.4MB 7.0MB/s eta 0:00:01\r\u001b[K     |████████████████████████████████| 1.5MB 7.0MB/s eta 0:00:01\r\u001b[K     |████████████████████████████████| 1.5MB 7.0MB/s \n",
            "\u001b[?25hRequirement already satisfied: scikit-learn>=0.22 in /usr/local/lib/python3.6/dist-packages (from pmdarima) (0.22.2.post1)\n",
            "Requirement already satisfied: numpy>=1.17.3 in /usr/local/lib/python3.6/dist-packages (from pmdarima) (1.18.5)\n",
            "Collecting statsmodels>=0.11\n",
            "\u001b[?25l  Downloading https://files.pythonhosted.org/packages/cb/83/540fd83238a18abe6c2d280fa8e489ac5fcefa1f370f0ca1acd16ae1b860/statsmodels-0.11.1-cp36-cp36m-manylinux1_x86_64.whl (8.7MB)\n",
            "\u001b[K     |████████████████████████████████| 8.7MB 44.6MB/s \n",
            "\u001b[?25hRequirement already satisfied: joblib>=0.11 in /usr/local/lib/python3.6/dist-packages (from pmdarima) (0.15.1)\n",
            "Collecting Cython<0.29.18,>=0.29\n",
            "\u001b[?25l  Downloading https://files.pythonhosted.org/packages/e7/d7/510ddef0248f3e1e91f9cc7e31c0f35f8954d0af92c5c3fd4c853e859ebe/Cython-0.29.17-cp36-cp36m-manylinux1_x86_64.whl (2.1MB)\n",
            "\u001b[K     |████████████████████████████████| 2.1MB 51.0MB/s \n",
            "\u001b[?25hRequirement already satisfied: urllib3 in /usr/local/lib/python3.6/dist-packages (from pmdarima) (1.24.3)\n",
            "Requirement already satisfied: scipy>=1.3.2 in /usr/local/lib/python3.6/dist-packages (from pmdarima) (1.4.1)\n",
            "Requirement already satisfied: pandas>=0.19 in /usr/local/lib/python3.6/dist-packages (from pmdarima) (1.0.5)\n",
            "Requirement already satisfied: patsy>=0.5 in /usr/local/lib/python3.6/dist-packages (from statsmodels>=0.11->pmdarima) (0.5.1)\n",
            "Requirement already satisfied: python-dateutil>=2.6.1 in /usr/local/lib/python3.6/dist-packages (from pandas>=0.19->pmdarima) (2.8.1)\n",
            "Requirement already satisfied: pytz>=2017.2 in /usr/local/lib/python3.6/dist-packages (from pandas>=0.19->pmdarima) (2018.9)\n",
            "Requirement already satisfied: six in /usr/local/lib/python3.6/dist-packages (from patsy>=0.5->statsmodels>=0.11->pmdarima) (1.12.0)\n",
            "Installing collected packages: statsmodels, Cython, pmdarima\n",
            "  Found existing installation: statsmodels 0.10.2\n",
            "    Uninstalling statsmodels-0.10.2:\n",
            "      Successfully uninstalled statsmodels-0.10.2\n",
            "  Found existing installation: Cython 0.29.20\n",
            "    Uninstalling Cython-0.29.20:\n",
            "      Successfully uninstalled Cython-0.29.20\n",
            "Successfully installed Cython-0.29.17 pmdarima-1.6.1 statsmodels-0.11.1\n"
          ],
          "name": "stdout"
        }
      ]
    },
    {
      "cell_type": "markdown",
      "metadata": {
        "id": "fX6nz3ZQ6Frj",
        "colab_type": "text"
      },
      "source": [
        "## a. Mount Google Drive (G-Drive)"
      ]
    },
    {
      "cell_type": "code",
      "metadata": {
        "id": "_8tKqQ6m6EUD",
        "colab_type": "code",
        "colab": {}
      },
      "source": [
        "from google.colab import drive\n",
        "drive.mount('/content/g_drive')"
      ],
      "execution_count": null,
      "outputs": []
    },
    {
      "cell_type": "markdown",
      "metadata": {
        "id": "Tbq1_6yz6Te1",
        "colab_type": "text"
      },
      "source": [
        "# 2.) Download Data"
      ]
    },
    {
      "cell_type": "markdown",
      "metadata": {
        "id": "09OWQUeg6YqV",
        "colab_type": "text"
      },
      "source": [
        "## a. from G-Drive"
      ]
    },
    {
      "cell_type": "code",
      "metadata": {
        "id": "0nsDpF7F6MaE",
        "colab_type": "code",
        "colab": {}
      },
      "source": [
        "data_URL = \"./g_drive/My Drive/Colab Notebooks/data/_Samples/\"\n",
        "data_FileName = \"COVID19_Active_Cases_DEU.csv\"\n",
        "path = data_URL + data_FileName"
      ],
      "execution_count": null,
      "outputs": []
    },
    {
      "cell_type": "markdown",
      "metadata": {
        "id": "p5YO9UPW6fDW",
        "colab_type": "text"
      },
      "source": [
        "Ingest data from G-Drive"
      ]
    },
    {
      "cell_type": "code",
      "metadata": {
        "id": "JofWRM056deV",
        "colab_type": "code",
        "colab": {
          "base_uri": "https://localhost:8080/",
          "height": 233
        },
        "outputId": "182293fd-f041-45ae-dc4f-69fbbdba008d"
      },
      "source": [
        "df = pd.read_csv(path, parse_dates=['Dates'], index_col='Dates')\n",
        "df.tail()"
      ],
      "execution_count": null,
      "outputs": [
        {
          "output_type": "execute_result",
          "data": {
            "text/html": [
              "<div>\n",
              "<style scoped>\n",
              "    .dataframe tbody tr th:only-of-type {\n",
              "        vertical-align: middle;\n",
              "    }\n",
              "\n",
              "    .dataframe tbody tr th {\n",
              "        vertical-align: top;\n",
              "    }\n",
              "\n",
              "    .dataframe thead th {\n",
              "        text-align: right;\n",
              "    }\n",
              "</style>\n",
              "<table border=\"1\" class=\"dataframe\">\n",
              "  <thead>\n",
              "    <tr style=\"text-align: right;\">\n",
              "      <th></th>\n",
              "      <th>Active_Cases</th>\n",
              "    </tr>\n",
              "    <tr>\n",
              "      <th>Dates</th>\n",
              "      <th></th>\n",
              "    </tr>\n",
              "  </thead>\n",
              "  <tbody>\n",
              "    <tr>\n",
              "      <th>2020-04-29</th>\n",
              "      <td>36335</td>\n",
              "    </tr>\n",
              "    <tr>\n",
              "      <th>2020-04-30</th>\n",
              "      <td>34586</td>\n",
              "    </tr>\n",
              "    <tr>\n",
              "      <th>2020-05-01</th>\n",
              "      <td>32666</td>\n",
              "    </tr>\n",
              "    <tr>\n",
              "      <th>2020-05-02</th>\n",
              "      <td>30827</td>\n",
              "    </tr>\n",
              "    <tr>\n",
              "      <th>2020-05-03</th>\n",
              "      <td>29265</td>\n",
              "    </tr>\n",
              "  </tbody>\n",
              "</table>\n",
              "</div>"
            ],
            "text/plain": [
              "            Active_Cases\n",
              "Dates                   \n",
              "2020-04-29         36335\n",
              "2020-04-30         34586\n",
              "2020-05-01         32666\n",
              "2020-05-02         30827\n",
              "2020-05-03         29265"
            ]
          },
          "metadata": {
            "tags": []
          },
          "execution_count": 4
        }
      ]
    },
    {
      "cell_type": "markdown",
      "metadata": {
        "id": "eNcLWqIr6vfe",
        "colab_type": "text"
      },
      "source": [
        "# 3.) Explore Data\n",
        "\n",
        "Inspired by https://alkaline-ml.com/pmdarima/usecases/sun-spots.html#fitting-a-baseline"
      ]
    },
    {
      "cell_type": "code",
      "metadata": {
        "id": "G9LzQi536wOf",
        "colab_type": "code",
        "colab": {
          "base_uri": "https://localhost:8080/",
          "height": 89
        },
        "outputId": "4e0e14b7-8600-4b77-907f-6f289079bd7a"
      },
      "source": [
        "import pandas.util.testing as tm\n",
        "import pmdarima as pm\n",
        "from pmdarima.datasets import load_sunspots\n",
        "from pmdarima.model_selection import train_test_split\n",
        "print(f\"Using pmdarima {pm.__version__}\")\n",
        "# Using pmdarima 1.6.0"
      ],
      "execution_count": null,
      "outputs": [
        {
          "output_type": "stream",
          "text": [
            "/usr/local/lib/python3.6/dist-packages/ipykernel_launcher.py:1: FutureWarning: pandas.util.testing is deprecated. Use the functions in the public API at pandas.testing instead.\n",
            "  \"\"\"Entry point for launching an IPython kernel.\n"
          ],
          "name": "stderr"
        },
        {
          "output_type": "stream",
          "text": [
            "Using pmdarima 1.6.0\n"
          ],
          "name": "stdout"
        }
      ]
    },
    {
      "cell_type": "markdown",
      "metadata": {
        "id": "jJv-7vQR618g",
        "colab_type": "text"
      },
      "source": [
        "## a. Split dataset into Training and Validation\n",
        "\n",
        "Take last 7-days as Validation dataset, leaving 70-days as Testing dataset."
      ]
    },
    {
      "cell_type": "code",
      "metadata": {
        "id": "SPiDSXFT60j4",
        "colab_type": "code",
        "colab": {
          "base_uri": "https://localhost:8080/",
          "height": 233
        },
        "outputId": "7db1c170-0291-44e7-d47d-6700512e2830"
      },
      "source": [
        "valid_len = 7\n",
        "train_len = len(df) - valid_len\n",
        "y_train, y_vali = train_test_split(df, train_size=train_len)\n",
        "y_train.tail()"
      ],
      "execution_count": null,
      "outputs": [
        {
          "output_type": "execute_result",
          "data": {
            "text/html": [
              "<div>\n",
              "<style scoped>\n",
              "    .dataframe tbody tr th:only-of-type {\n",
              "        vertical-align: middle;\n",
              "    }\n",
              "\n",
              "    .dataframe tbody tr th {\n",
              "        vertical-align: top;\n",
              "    }\n",
              "\n",
              "    .dataframe thead th {\n",
              "        text-align: right;\n",
              "    }\n",
              "</style>\n",
              "<table border=\"1\" class=\"dataframe\">\n",
              "  <thead>\n",
              "    <tr style=\"text-align: right;\">\n",
              "      <th></th>\n",
              "      <th>Active_Cases</th>\n",
              "    </tr>\n",
              "    <tr>\n",
              "      <th>Dates</th>\n",
              "      <th></th>\n",
              "    </tr>\n",
              "  </thead>\n",
              "  <tbody>\n",
              "    <tr>\n",
              "      <th>2020-04-22</th>\n",
              "      <td>48267</td>\n",
              "    </tr>\n",
              "    <tr>\n",
              "      <th>2020-04-23</th>\n",
              "      <td>46118</td>\n",
              "    </tr>\n",
              "    <tr>\n",
              "      <th>2020-04-24</th>\n",
              "      <td>44208</td>\n",
              "    </tr>\n",
              "    <tr>\n",
              "      <th>2020-04-25</th>\n",
              "      <td>42510</td>\n",
              "    </tr>\n",
              "    <tr>\n",
              "      <th>2020-04-26</th>\n",
              "      <td>41023</td>\n",
              "    </tr>\n",
              "  </tbody>\n",
              "</table>\n",
              "</div>"
            ],
            "text/plain": [
              "            Active_Cases\n",
              "Dates                   \n",
              "2020-04-22         48267\n",
              "2020-04-23         46118\n",
              "2020-04-24         44208\n",
              "2020-04-25         42510\n",
              "2020-04-26         41023"
            ]
          },
          "metadata": {
            "tags": []
          },
          "execution_count": 6
        }
      ]
    },
    {
      "cell_type": "markdown",
      "metadata": {
        "id": "uLXzwC0g8C-p",
        "colab_type": "text"
      },
      "source": [
        "## b. Visualize dataset"
      ]
    },
    {
      "cell_type": "code",
      "metadata": {
        "id": "fHqq9-kX7VAM",
        "colab_type": "code",
        "colab": {
          "base_uri": "https://localhost:8080/",
          "height": 441
        },
        "outputId": "b4c3783e-4c2a-4da1-f398-d261cf225abf"
      },
      "source": [
        "from pmdarima.utils import tsdisplay\n",
        "\n",
        "tsdisplay(y_train, lag_max=train_len-1, title=\"COVID-19 Active Cases in Germany\", show=True)"
      ],
      "execution_count": null,
      "outputs": [
        {
          "output_type": "display_data",
          "data": {
            "image/png": "[encoded data removed]",
            "text/plain": [
              "<Figure size 576x432 with 3 Axes>"
            ]
          },
          "metadata": {
            "tags": [],
            "needs_background": "light"
          }
        }
      ]
    },
    {
      "cell_type": "markdown",
      "metadata": {
        "id": "7MUfJ4ns83jA",
        "colab_type": "text"
      },
      "source": [
        "Looking at the histogram. It is very zero-inflated. A lot of the statistical techniques used in time series modeling behave better when the data is **normally distributed**, so this may be something to look into."
      ]
    },
    {
      "cell_type": "markdown",
      "metadata": {
        "id": "eH_AbUpR9CQh",
        "colab_type": "text"
      },
      "source": [
        "# 4.) Fitting a baseline model\n",
        "\n",
        "Before we start manipulating our data, let’s examine what would happen if we just fit a model straight out of the box:"
      ]
    },
    {
      "cell_type": "code",
      "metadata": {
        "id": "L6iHZqgU8HRX",
        "colab_type": "code",
        "colab": {
          "base_uri": "https://localhost:8080/",
          "height": 869
        },
        "outputId": "efdc569b-3c1b-4518-e27b-8f63f72248b7"
      },
      "source": [
        "fit_base = pm.auto_arima(\n",
        "    y_train,\n",
        "    trace=True,\n",
        "    suppress_warnings=True\n",
        ")\n",
        "\n",
        "print(fit_base.summary())"
      ],
      "execution_count": null,
      "outputs": [
        {
          "output_type": "stream",
          "text": [
            "Performing stepwise search to minimize aic\n",
            "Fit ARIMA(2,1,2)x(0,0,0,0) [intercept=True]; AIC=1083.831, BIC=1097.407, Time=0.259 seconds\n",
            "Fit ARIMA(0,1,0)x(0,0,0,0) [intercept=True]; AIC=1277.177, BIC=1281.703, Time=0.008 seconds\n",
            "Fit ARIMA(1,1,0)x(0,0,0,0) [intercept=True]; AIC=1131.931, BIC=1138.719, Time=0.022 seconds\n",
            "Fit ARIMA(0,1,1)x(0,0,0,0) [intercept=True]; AIC=1208.240, BIC=1215.028, Time=0.068 seconds\n",
            "Fit ARIMA(0,1,0)x(0,0,0,0) [intercept=False]; AIC=1281.490, BIC=1283.753, Time=0.006 seconds\n",
            "Fit ARIMA(1,1,2)x(0,0,0,0) [intercept=True]; AIC=1081.865, BIC=1093.178, Time=0.127 seconds\n",
            "Near non-invertible roots for order (1, 1, 2)(0, 0, 0, 0); setting score to inf (at least one inverse root too close to the border of the unit circle: 0.999)\n",
            "Fit ARIMA(2,1,1)x(0,0,0,0) [intercept=True]; AIC=1113.911, BIC=1125.224, Time=0.121 seconds\n",
            "Fit ARIMA(3,1,2)x(0,0,0,0) [intercept=True]; AIC=1083.779, BIC=1099.617, Time=0.269 seconds\n",
            "Fit ARIMA(3,1,1)x(0,0,0,0) [intercept=True]; AIC=1115.225, BIC=1128.801, Time=0.275 seconds\n",
            "Fit ARIMA(4,1,2)x(0,0,0,0) [intercept=True]; AIC=1081.053, BIC=1099.154, Time=0.338 seconds\n",
            "Fit ARIMA(4,1,1)x(0,0,0,0) [intercept=True]; AIC=1092.338, BIC=1108.177, Time=0.268 seconds\n",
            "Fit ARIMA(5,1,2)x(0,0,0,0) [intercept=True]; AIC=1083.015, BIC=1103.380, Time=0.501 seconds\n",
            "Fit ARIMA(4,1,3)x(0,0,0,0) [intercept=True]; AIC=1082.915, BIC=1103.279, Time=0.427 seconds\n",
            "Fit ARIMA(3,1,3)x(0,0,0,0) [intercept=True]; AIC=1082.217, BIC=1100.318, Time=0.358 seconds\n",
            "Fit ARIMA(5,1,1)x(0,0,0,0) [intercept=True]; AIC=1093.174, BIC=1111.276, Time=0.440 seconds\n",
            "Fit ARIMA(5,1,3)x(0,0,0,0) [intercept=True]; AIC=1083.689, BIC=1106.316, Time=0.576 seconds\n",
            "Total fit time: 4.103 seconds\n",
            "                           Statespace Model Results                           \n",
            "==============================================================================\n",
            "Dep. Variable:                      y   No. Observations:                   72\n",
            "Model:               SARIMAX(4, 1, 2)   Log Likelihood                -532.526\n",
            "Date:                Mon, 04 May 2020   AIC                           1081.053\n",
            "Time:                        20:53:49   BIC                           1099.154\n",
            "Sample:                             0   HQIC                          1088.251\n",
            "                                 - 72                                         \n",
            "Covariance Type:                  opg                                         \n",
            "==============================================================================\n",
            "                 coef    std err          z      P>|z|      [0.025      0.975]\n",
            "------------------------------------------------------------------------------\n",
            "intercept     -3.1058    271.805     -0.011      0.991    -535.834     529.622\n",
            "ar.L1          0.8576      0.137      6.242      0.000       0.588       1.127\n",
            "ar.L2         -0.1597      0.240     -0.666      0.505      -0.630       0.310\n",
            "ar.L3         -0.0985      0.199     -0.494      0.621      -0.489       0.292\n",
            "ar.L4          0.2828      0.127      2.229      0.026       0.034       0.531\n",
            "ma.L1          0.8721      0.078     11.210      0.000       0.720       1.025\n",
            "ma.L2          0.8699      0.107      8.105      0.000       0.660       1.080\n",
            "sigma2      1.787e+05   2.75e+04      6.490      0.000    1.25e+05    2.33e+05\n",
            "===================================================================================\n",
            "Ljung-Box (Q):                       42.46   Jarque-Bera (JB):               222.47\n",
            "Prob(Q):                              0.37   Prob(JB):                         0.00\n",
            "Heteroskedasticity (H):             556.83   Skew:                            -1.70\n",
            "Prob(H) (two-sided):                  0.00   Kurtosis:                        10.98\n",
            "===================================================================================\n",
            "\n",
            "Warnings:\n",
            "[1] Covariance matrix calculated using the outer product of gradients (complex-step).\n"
          ],
          "name": "stdout"
        }
      ]
    },
    {
      "cell_type": "markdown",
      "metadata": {
        "id": "vDwZC5k5I5OQ",
        "colab_type": "text"
      },
      "source": [
        "# 5.) Transform Data\n",
        "\n",
        "Since we expect our model to perform better over more normal data, let’s experiment with (1.) Log transformations and the (2.) [Box-Cox transformation](https://en.wikipedia.org/wiki/Power_transform#Box%E2%80%93Cox_transformation), each of which is provided as an endogenous transformer in the Pmdarima package."
      ]
    },
    {
      "cell_type": "markdown",
      "metadata": {
        "id": "0xpgozH6LIu5",
        "colab_type": "text"
      },
      "source": [
        "## Log Transformation"
      ]
    },
    {
      "cell_type": "code",
      "metadata": {
        "id": "vr0pZ4N59I9B",
        "colab_type": "code",
        "colab": {
          "base_uri": "https://localhost:8080/",
          "height": 441
        },
        "outputId": "63b3fa57-32aa-4251-bb27-9bf099892afc"
      },
      "source": [
        "from pmdarima.preprocessing import LogEndogTransformer\n",
        "\n",
        "y_train_log, _ = LogEndogTransformer(lmbda=1e-6).fit_transform(y_train)\n",
        "tsdisplay(y_train_log, lag_max=train_len-1)"
      ],
      "execution_count": null,
      "outputs": [
        {
          "output_type": "display_data",
          "data": {
            "image/png": "[encoded data removed]",
            "text/plain": [
              "<Figure size 576x432 with 3 Axes>"
            ]
          },
          "metadata": {
            "tags": [],
            "needs_background": "light"
          }
        }
      ]
    },
    {
      "cell_type": "code",
      "metadata": {
        "id": "pKYVZ_xEhged",
        "colab_type": "code",
        "colab": {
          "base_uri": "https://localhost:8080/",
          "height": 34
        },
        "outputId": "b5a088b1-1f59-436a-fbab-99bd6c9290c9"
      },
      "source": [
        "from scipy.stats import normaltest\n",
        "normaltest(y_train_log)[1]"
      ],
      "execution_count": null,
      "outputs": [
        {
          "output_type": "execute_result",
          "data": {
            "text/plain": [
              "0.0021275718529117442"
            ]
          },
          "metadata": {
            "tags": []
          },
          "execution_count": 10
        }
      ]
    },
    {
      "cell_type": "markdown",
      "metadata": {
        "id": "abCz5TicLZI0",
        "colab_type": "text"
      },
      "source": [
        "## Box-Cox transformation"
      ]
    },
    {
      "cell_type": "code",
      "metadata": {
        "id": "6dRBb_DLLUMv",
        "colab_type": "code",
        "colab": {
          "base_uri": "https://localhost:8080/",
          "height": 441
        },
        "outputId": "d6ba725b-d616-45e4-9e7c-32570b2012f9"
      },
      "source": [
        "from pmdarima.preprocessing import BoxCoxEndogTransformer\n",
        "\n",
        "y_train_bc, _ = BoxCoxEndogTransformer(lmbda2=1e-6).fit_transform(y_train)\n",
        "tsdisplay(y_train_bc, lag_max=train_len-1)"
      ],
      "execution_count": null,
      "outputs": [
        {
          "output_type": "display_data",
          "data": {
            "image/png": "[encoded data removed]",
            "text/plain": [
              "<Figure size 576x432 with 3 Axes>"
            ]
          },
          "metadata": {
            "tags": [],
            "needs_background": "light"
          }
        }
      ]
    },
    {
      "cell_type": "markdown",
      "metadata": {
        "id": "_p58OIrwhbHW",
        "colab_type": "text"
      },
      "source": [
        "Less skewed than Log Transformation and OG dataset, but it's still no normal distribution (ideal case).\n",
        "\n",
        "Let's check out the normality of Box-Cox transformation..."
      ]
    },
    {
      "cell_type": "code",
      "metadata": {
        "id": "UQgegAiWLbDo",
        "colab_type": "code",
        "colab": {
          "base_uri": "https://localhost:8080/",
          "height": 34
        },
        "outputId": "8bdf4730-1c48-4041-ad84-f9080953051f"
      },
      "source": [
        "normaltest(y_train_bc)[1]"
      ],
      "execution_count": null,
      "outputs": [
        {
          "output_type": "execute_result",
          "data": {
            "text/plain": [
              "2.8334337465929764e-20"
            ]
          },
          "metadata": {
            "tags": []
          },
          "execution_count": 12
        }
      ]
    },
    {
      "cell_type": "markdown",
      "metadata": {
        "id": "8PT3XZcch4xM",
        "colab_type": "text"
      },
      "source": [
        "# 6.) Fitting a transformed model\n",
        "\n",
        "Pmdarima implements a scikit-learn-esque pipeline used to chain transformations and estimators together. Using this, we can centralize the entire transformer/model fit into one metaestimator:"
      ]
    },
    {
      "cell_type": "markdown",
      "metadata": {
        "id": "YrVuc2up5QeH",
        "colab_type": "text"
      },
      "source": [
        "## a. Log transformation"
      ]
    },
    {
      "cell_type": "code",
      "metadata": {
        "id": "E6c_zi1G5UhB",
        "colab_type": "code",
        "colab": {
          "base_uri": "https://localhost:8080/",
          "height": 852
        },
        "outputId": "5e64eb4d-7252-4210-82ca-e08e69091d96"
      },
      "source": [
        "from pmdarima.pipeline import Pipeline\n",
        "\n",
        "fit_log = Pipeline([\n",
        "    ('log', LogEndogTransformer(lmbda=1e-6)),\n",
        "    ('arima', pm.AutoARIMA(trace=True,\n",
        "                           suppress_warnings=True\n",
        "                           )\n",
        "    )\n",
        "])\n",
        "\n",
        "fit_log.fit(y_train)\n",
        "\n",
        "print(fit_log.summary())"
      ],
      "execution_count": null,
      "outputs": [
        {
          "output_type": "stream",
          "text": [
            "Performing stepwise search to minimize aic\n",
            "Fit ARIMA(2,1,2)x(0,0,0,0) [intercept=True]; AIC=-81.197, BIC=-67.621, Time=0.424 seconds\n",
            "Fit ARIMA(0,1,0)x(0,0,0,0) [intercept=True]; AIC=7.534, BIC=12.059, Time=0.041 seconds\n",
            "Fit ARIMA(1,1,0)x(0,0,0,0) [intercept=True]; AIC=-67.010, BIC=-60.222, Time=0.087 seconds\n",
            "Fit ARIMA(0,1,1)x(0,0,0,0) [intercept=True]; AIC=-28.853, BIC=-22.065, Time=0.146 seconds\n",
            "Fit ARIMA(0,1,0)x(0,0,0,0) [intercept=False]; AIC=18.799, BIC=21.062, Time=0.010 seconds\n",
            "Fit ARIMA(1,1,2)x(0,0,0,0) [intercept=True]; AIC=-66.219, BIC=-54.906, Time=0.126 seconds\n",
            "Fit ARIMA(2,1,1)x(0,0,0,0) [intercept=True]; AIC=-65.509, BIC=-54.196, Time=0.207 seconds\n",
            "Fit ARIMA(3,1,2)x(0,0,0,0) [intercept=True]; AIC=-84.858, BIC=-69.019, Time=0.414 seconds\n",
            "Near non-invertible roots for order (3, 1, 2)(0, 0, 0, 0); setting score to inf (at least one inverse root too close to the border of the unit circle: 0.996)\n",
            "Fit ARIMA(2,1,3)x(0,0,0,0) [intercept=True]; AIC=-79.856, BIC=-64.017, Time=0.426 seconds\n",
            "Near non-invertible roots for order (2, 1, 3)(0, 0, 0, 0); setting score to inf (at least one inverse root too close to the border of the unit circle: 0.998)\n",
            "Fit ARIMA(1,1,1)x(0,0,0,0) [intercept=True]; AIC=-65.079, BIC=-56.029, Time=0.084 seconds\n",
            "Fit ARIMA(1,1,3)x(0,0,0,0) [intercept=True]; AIC=-76.928, BIC=-63.352, Time=0.342 seconds\n",
            "Near non-invertible roots for order (1, 1, 3)(0, 0, 0, 0); setting score to inf (at least one inverse root too close to the border of the unit circle: 0.999)\n",
            "Fit ARIMA(3,1,1)x(0,0,0,0) [intercept=True]; AIC=-66.937, BIC=-53.361, Time=0.170 seconds\n",
            "Fit ARIMA(3,1,3)x(0,0,0,0) [intercept=True]; AIC=-82.886, BIC=-64.785, Time=0.465 seconds\n",
            "Near non-invertible roots for order (3, 1, 3)(0, 0, 0, 0); setting score to inf (at least one inverse root too close to the border of the unit circle: 0.997)\n",
            "Total fit time: 2.958 seconds\n",
            "                           Statespace Model Results                           \n",
            "==============================================================================\n",
            "Dep. Variable:                      y   No. Observations:                   72\n",
            "Model:               SARIMAX(3, 1, 2)   Log Likelihood                  49.429\n",
            "Date:                Mon, 04 May 2020   AIC                            -84.858\n",
            "Time:                        20:54:27   BIC                            -69.019\n",
            "Sample:                             0   HQIC                           -78.560\n",
            "                                 - 72                                         \n",
            "Covariance Type:                  opg                                         \n",
            "==============================================================================\n",
            "                 coef    std err          z      P>|z|      [0.025      0.975]\n",
            "------------------------------------------------------------------------------\n",
            "intercept      0.0545      0.061      0.898      0.369      -0.065       0.174\n",
            "ar.L1         -0.3447      0.125     -2.764      0.006      -0.589      -0.100\n",
            "ar.L2          0.5005      0.085      5.905      0.000       0.334       0.667\n",
            "ar.L3          0.3003      0.118      2.547      0.011       0.069       0.531\n",
            "ma.L1          1.4412      1.742      0.827      0.408      -1.973       4.855\n",
            "ma.L2          0.9920      2.375      0.418      0.676      -3.663       5.647\n",
            "sigma2         0.0132      0.030      0.433      0.665      -0.046       0.073\n",
            "===================================================================================\n",
            "Ljung-Box (Q):                       19.67   Jarque-Bera (JB):               218.22\n",
            "Prob(Q):                              1.00   Prob(JB):                         0.00\n",
            "Heteroskedasticity (H):               0.02   Skew:                             1.90\n",
            "Prob(H) (two-sided):                  0.00   Kurtosis:                        10.70\n",
            "===================================================================================\n",
            "\n",
            "Warnings:\n",
            "[1] Covariance matrix calculated using the outer product of gradients (complex-step).\n"
          ],
          "name": "stdout"
        }
      ]
    },
    {
      "cell_type": "markdown",
      "metadata": {
        "id": "1j8J8ZCgJpay",
        "colab_type": "text"
      },
      "source": [
        "## b. Box-Cox transformation"
      ]
    },
    {
      "cell_type": "code",
      "metadata": {
        "id": "nZ2LKwGlhl8o",
        "colab_type": "code",
        "colab": {
          "base_uri": "https://localhost:8080/",
          "height": 537
        },
        "outputId": "a1280fc9-ca64-498f-847c-9dacdc055752"
      },
      "source": [
        "fit_boxcox = Pipeline([\n",
        "    ('boxcox', BoxCoxEndogTransformer(lmbda2=1e-6)),\n",
        "    ('arima', pm.AutoARIMA(trace=True,\n",
        "                           suppress_warnings=True\n",
        "                           )\n",
        "    )\n",
        "])\n",
        "\n",
        "fit_boxcox.fit(y_train)\n",
        "\n",
        "print(fit_boxcox.summary())"
      ],
      "execution_count": null,
      "outputs": [
        {
          "output_type": "stream",
          "text": [
            "Performing stepwise search to minimize aic\n",
            "Fit ARIMA(2,2,2)x(0,0,0,0) [intercept=True]; AIC=21.794, BIC=35.285, Time=0.300 seconds\n",
            "Fit ARIMA(0,2,0)x(0,0,0,0) [intercept=True]; AIC=15.748, BIC=20.245, Time=0.024 seconds\n",
            "Fit ARIMA(1,2,0)x(0,0,0,0) [intercept=True]; AIC=17.743, BIC=24.489, Time=0.022 seconds\n",
            "Fit ARIMA(0,2,1)x(0,0,0,0) [intercept=True]; AIC=17.744, BIC=24.489, Time=0.035 seconds\n",
            "Fit ARIMA(0,2,0)x(0,0,0,0) [intercept=False]; AIC=13.766, BIC=16.014, Time=0.037 seconds\n",
            "Fit ARIMA(1,2,1)x(0,0,0,0) [intercept=True]; AIC=19.732, BIC=28.726, Time=0.101 seconds\n",
            "Total fit time: 0.525 seconds\n",
            "                           Statespace Model Results                           \n",
            "==============================================================================\n",
            "Dep. Variable:                      y   No. Observations:                   72\n",
            "Model:               SARIMAX(0, 2, 0)   Log Likelihood                  -5.883\n",
            "Date:                Mon, 04 May 2020   AIC                             13.766\n",
            "Time:                        20:54:28   BIC                             16.014\n",
            "Sample:                             0   HQIC                            14.659\n",
            "                                 - 72                                         \n",
            "Covariance Type:                  opg                                         \n",
            "==============================================================================\n",
            "                 coef    std err          z      P>|z|      [0.025      0.975]\n",
            "------------------------------------------------------------------------------\n",
            "sigma2         0.0693      0.006     11.370      0.000       0.057       0.081\n",
            "===================================================================================\n",
            "Ljung-Box (Q):                       61.35   Jarque-Bera (JB):               129.57\n",
            "Prob(Q):                              0.02   Prob(JB):                         0.00\n",
            "Heteroskedasticity (H):               0.11   Skew:                             1.88\n",
            "Prob(H) (two-sided):                  0.00   Kurtosis:                         8.51\n",
            "===================================================================================\n",
            "\n",
            "Warnings:\n",
            "[1] Covariance matrix calculated using the outer product of gradients (complex-step).\n"
          ],
          "name": "stdout"
        }
      ]
    },
    {
      "cell_type": "markdown",
      "metadata": {
        "id": "WoIbSEq3zzp5",
        "colab_type": "text"
      },
      "source": [
        "# 7.) Forecast\n",
        "\n",
        "Forecast the next 7-days"
      ]
    },
    {
      "cell_type": "code",
      "metadata": {
        "id": "ocxdn8YQjcp1",
        "colab_type": "code",
        "colab": {
          "base_uri": "https://localhost:8080/",
          "height": 86
        },
        "outputId": "6eba0b9f-a08c-44c4-881b-94f5b69f87ab"
      },
      "source": [
        "# Forecast\n",
        "import numpy as np\n",
        "\n",
        "model = fit_base\n",
        "forecast, conf_int = model.predict(n_periods=valid_len, return_conf_int=True)\n",
        "print(\"\\nForecasts:\")\n",
        "print(forecast)"
      ],
      "execution_count": null,
      "outputs": [
        {
          "output_type": "stream",
          "text": [
            "\n",
            "Forecasts:\n",
            "[40128.19907621 39660.24146531 39065.03560616 38293.87087658\n",
            " 37517.552361   36898.15248515 36395.49315827]\n"
          ],
          "name": "stdout"
        }
      ]
    },
    {
      "cell_type": "markdown",
      "metadata": {
        "id": "xOKHgp6x3RGJ",
        "colab_type": "text"
      },
      "source": [
        "## a. Visualize Forecast"
      ]
    },
    {
      "cell_type": "markdown",
      "metadata": {
        "id": "000XLeSP3Zff",
        "colab_type": "text"
      },
      "source": [
        "### Set-up plots"
      ]
    },
    {
      "cell_type": "code",
      "metadata": {
        "id": "BGnhd-He3Mt9",
        "colab_type": "code",
        "colab": {
          "base_uri": "https://localhost:8080/",
          "height": 245
        },
        "outputId": "9b0f9ae0-e5db-4252-df31-0657dda3fc4a"
      },
      "source": [
        "import matplotlib as mpl\n",
        "import matplotlib.pyplot as plt\n",
        "\n",
        "! pip install mplcursors\n",
        "import mplcursors\n",
        "\n",
        "%matplotlib inline\n",
        "\n",
        "plt.figure()  # create a plot figure\n",
        "mpl.rcParams['figure.figsize'] = (20, 15)"
      ],
      "execution_count": null,
      "outputs": [
        {
          "output_type": "stream",
          "text": [
            "Collecting mplcursors\n",
            "  Downloading https://files.pythonhosted.org/packages/5e/5f/3853620d0e04b893318e3ba20c0da1f24b56d5f2a08f7a2adf5ba86ea1c0/mplcursors-0.3-py3-none-any.whl\n",
            "Requirement already satisfied: matplotlib>=3.1 in /usr/local/lib/python3.6/dist-packages (from mplcursors) (3.2.1)\n",
            "Requirement already satisfied: numpy>=1.11 in /usr/local/lib/python3.6/dist-packages (from matplotlib>=3.1->mplcursors) (1.18.3)\n",
            "Requirement already satisfied: pyparsing!=2.0.4,!=2.1.2,!=2.1.6,>=2.0.1 in /usr/local/lib/python3.6/dist-packages (from matplotlib>=3.1->mplcursors) (2.4.7)\n",
            "Requirement already satisfied: kiwisolver>=1.0.1 in /usr/local/lib/python3.6/dist-packages (from matplotlib>=3.1->mplcursors) (1.2.0)\n",
            "Requirement already satisfied: python-dateutil>=2.1 in /usr/local/lib/python3.6/dist-packages (from matplotlib>=3.1->mplcursors) (2.8.1)\n",
            "Requirement already satisfied: cycler>=0.10 in /usr/local/lib/python3.6/dist-packages (from matplotlib>=3.1->mplcursors) (0.10.0)\n",
            "Requirement already satisfied: six>=1.5 in /usr/local/lib/python3.6/dist-packages (from python-dateutil>=2.1->matplotlib>=3.1->mplcursors) (1.12.0)\n",
            "Installing collected packages: mplcursors\n",
            "Successfully installed mplcursors-0.3\n"
          ],
          "name": "stdout"
        },
        {
          "output_type": "display_data",
          "data": {
            "text/plain": [
              "<Figure size 432x288 with 0 Axes>"
            ]
          },
          "metadata": {
            "tags": []
          }
        }
      ]
    },
    {
      "cell_type": "markdown",
      "metadata": {
        "id": "BGtYzqfg3-6O",
        "colab_type": "text"
      },
      "source": [
        "### Visualize Goodness of Fit"
      ]
    },
    {
      "cell_type": "code",
      "metadata": {
        "id": "1F1CT9bP3vEe",
        "colab_type": "code",
        "colab": {}
      },
      "source": [
        "# Visualize goodness of fit\n",
        "in_sample_forecast, in_sample_confint = model.predict_in_sample(exogenous=None, return_conf_int=True)"
      ],
      "execution_count": null,
      "outputs": []
    },
    {
      "cell_type": "markdown",
      "metadata": {
        "id": "E-yvRHVe4a29",
        "colab_type": "text"
      },
      "source": [
        "### Actual vs. Forecast w/ Test Dataset"
      ]
    },
    {
      "cell_type": "code",
      "metadata": {
        "id": "EHXZpG70VGEb",
        "colab_type": "code",
        "colab": {
          "base_uri": "https://localhost:8080/",
          "height": 906
        },
        "outputId": "14db5f63-e797-4e86-d241-d3589a566553"
      },
      "source": [
        "# Now plot the results and the forecast for the test set\n",
        "x_axis = np.arange(y_train.shape[0] + forecast.shape[0])\n",
        "\n",
        "# Training data\n",
        "plt.plot(x_axis[:y_train.shape[0]], y_train, alpha=0.75, label='Training')\n",
        "# Forecast from ARIMA model\n",
        "plt.scatter(x_axis[y_train.shape[0]:], forecast, alpha=0.4, marker='o', label='Forecast')\n",
        "plt.fill_between(x_axis[-forecast.shape[0]:], conf_int[:, 0], conf_int[:, 1], alpha=0.1, color='b')\n",
        "# Validation data\n",
        "plt.scatter(x_axis[y_train.shape[0]:], y_vali, alpha=0.4, marker='x', label='Validation')\n",
        "# In-Samples Forecast\n",
        "plt.scatter(x_axis[:in_sample_forecast.shape[0]], in_sample_forecast, alpha=0.4, marker='x', label=\"In-Sample Forecast\")\n",
        "plt.fill_between(x_axis[:in_sample_forecast.shape[0]], in_sample_confint[:, 0], in_sample_confint[:, 1], alpha=0.1, color='c')\n",
        "\n",
        "plt.title('Train Samples & Forecasted Test Samples')\n",
        "plt.legend()\n",
        "plt.xlabel((0, x_axis.shape[0]))\n",
        "plt.ylabel('Active Cases (DEU)')\n",
        "mplcursors.cursor(hover=True)\n",
        "# mplcursors.cursor()"
      ],
      "execution_count": null,
      "outputs": [
        {
          "output_type": "execute_result",
          "data": {
            "text/plain": [
              "<mplcursors._mplcursors.Cursor at 0x7f9a98222390>"
            ]
          },
          "metadata": {
            "tags": []
          },
          "execution_count": 20
        },
        {
          "output_type": "display_data",
          "data": {
            "image/png": "[encoded data removed]",
            "text/plain": [
              "<Figure size 1440x1080 with 1 Axes>"
            ]
          },
          "metadata": {
            "tags": [],
            "needs_background": "light"
          }
        }
      ]
    },
    {
      "cell_type": "markdown",
      "metadata": {
        "id": "iAg6IwdylIWu",
        "colab_type": "text"
      },
      "source": [
        "### Comparison btw Actuals & Forecast"
      ]
    },
    {
      "cell_type": "code",
      "metadata": {
        "id": "9hJfIBR6CRLU",
        "colab_type": "code",
        "colab": {
          "base_uri": "https://localhost:8080/",
          "height": 294
        },
        "outputId": "36e78c7b-3bb4-4ba3-92e8-12ce77d2ccbd"
      },
      "source": [
        "df_fcast = y_vali.copy()\n",
        "df_fcast['Forecast'] = forecast\n",
        "df_fcast['difference'] = df_fcast['Forecast'] - df_fcast['Active_Cases']\n",
        "df_fcast"
      ],
      "execution_count": null,
      "outputs": [
        {
          "output_type": "execute_result",
          "data": {
            "text/html": [
              "<div>\n",
              "<style scoped>\n",
              "    .dataframe tbody tr th:only-of-type {\n",
              "        vertical-align: middle;\n",
              "    }\n",
              "\n",
              "    .dataframe tbody tr th {\n",
              "        vertical-align: top;\n",
              "    }\n",
              "\n",
              "    .dataframe thead th {\n",
              "        text-align: right;\n",
              "    }\n",
              "</style>\n",
              "<table border=\"1\" class=\"dataframe\">\n",
              "  <thead>\n",
              "    <tr style=\"text-align: right;\">\n",
              "      <th></th>\n",
              "      <th>Active_Cases</th>\n",
              "      <th>Forecast</th>\n",
              "      <th>difference</th>\n",
              "    </tr>\n",
              "    <tr>\n",
              "      <th>Dates</th>\n",
              "      <th></th>\n",
              "      <th></th>\n",
              "      <th></th>\n",
              "    </tr>\n",
              "  </thead>\n",
              "  <tbody>\n",
              "    <tr>\n",
              "      <th>2020-04-27</th>\n",
              "      <td>39587</td>\n",
              "      <td>40128.199076</td>\n",
              "      <td>541.199076</td>\n",
              "    </tr>\n",
              "    <tr>\n",
              "      <th>2020-04-28</th>\n",
              "      <td>38041</td>\n",
              "      <td>39660.241465</td>\n",
              "      <td>1619.241465</td>\n",
              "    </tr>\n",
              "    <tr>\n",
              "      <th>2020-04-29</th>\n",
              "      <td>36335</td>\n",
              "      <td>39065.035606</td>\n",
              "      <td>2730.035606</td>\n",
              "    </tr>\n",
              "    <tr>\n",
              "      <th>2020-04-30</th>\n",
              "      <td>34586</td>\n",
              "      <td>38293.870877</td>\n",
              "      <td>3707.870877</td>\n",
              "    </tr>\n",
              "    <tr>\n",
              "      <th>2020-05-01</th>\n",
              "      <td>32666</td>\n",
              "      <td>37517.552361</td>\n",
              "      <td>4851.552361</td>\n",
              "    </tr>\n",
              "    <tr>\n",
              "      <th>2020-05-02</th>\n",
              "      <td>30827</td>\n",
              "      <td>36898.152485</td>\n",
              "      <td>6071.152485</td>\n",
              "    </tr>\n",
              "    <tr>\n",
              "      <th>2020-05-03</th>\n",
              "      <td>29265</td>\n",
              "      <td>36395.493158</td>\n",
              "      <td>7130.493158</td>\n",
              "    </tr>\n",
              "  </tbody>\n",
              "</table>\n",
              "</div>"
            ],
            "text/plain": [
              "            Active_Cases      Forecast   difference\n",
              "Dates                                              \n",
              "2020-04-27         39587  40128.199076   541.199076\n",
              "2020-04-28         38041  39660.241465  1619.241465\n",
              "2020-04-29         36335  39065.035606  2730.035606\n",
              "2020-04-30         34586  38293.870877  3707.870877\n",
              "2020-05-01         32666  37517.552361  4851.552361\n",
              "2020-05-02         30827  36898.152485  6071.152485\n",
              "2020-05-03         29265  36395.493158  7130.493158"
            ]
          },
          "metadata": {
            "tags": []
          },
          "execution_count": 21
        }
      ]
    },
    {
      "cell_type": "markdown",
      "metadata": {
        "id": "SXtevsaLXjqH",
        "colab_type": "text"
      },
      "source": [
        "## b. Update Forecast"
      ]
    },
    {
      "cell_type": "markdown",
      "metadata": {
        "id": "rzFr0jjLcR5g",
        "colab_type": "text"
      },
      "source": [
        "### Add the actual samples (validation dataset) to the model and create NEW forecast"
      ]
    },
    {
      "cell_type": "code",
      "metadata": {
        "id": "XLUlNBvtbO1F",
        "colab_type": "code",
        "colab": {
          "base_uri": "https://localhost:8080/",
          "height": 86
        },
        "outputId": "8dcde8ae-5981-484b-f7b3-709e34345e25"
      },
      "source": [
        "fit_base.update(y_vali)\n",
        "\n",
        "model = fit_base\n",
        "\n",
        "new_forecast, new_conf_int  = model.predict(n_periods=valid_len, return_conf_int=True)\n",
        "print(\"\\nNew Forecast:\")\n",
        "print(new_forecast)"
      ],
      "execution_count": null,
      "outputs": [
        {
          "output_type": "stream",
          "text": [
            "\n",
            "New Forecast:\n",
            "[28196.99240578 27095.14503572 25963.30925914 24851.68426822\n",
            " 23881.79284115 23019.01639432 22217.693388  ]\n"
          ],
          "name": "stdout"
        }
      ]
    },
    {
      "cell_type": "markdown",
      "metadata": {
        "id": "KlRQWP2DcWwP",
        "colab_type": "text"
      },
      "source": [
        "### Actual vs (New) Forecast"
      ]
    },
    {
      "cell_type": "code",
      "metadata": {
        "id": "NnVwLX01cixU",
        "colab_type": "code",
        "colab": {
          "base_uri": "https://localhost:8080/",
          "height": 906
        },
        "outputId": "26bbff6b-7a4e-4ccc-ca7d-4b8feffb8d33"
      },
      "source": [
        "# Now Plot results and the new forecast\n",
        "new_x_axis = np.arange(df.shape[0] + valid_len)\n",
        "\n",
        "# Training (Actual) data\n",
        "plt.plot(new_x_axis[:df.shape[0]], df, alpha=0.75, label='Actual')\n",
        "# New Forecast data\n",
        "plt.scatter(new_x_axis[df.shape[0]:], new_forecast, alpha=0.4, marker='o', label='Forecast')\n",
        "plt.fill_between(new_x_axis[-forecast.shape[0]:], new_conf_int[:, 0], new_conf_int[:, 1], alpha=0.1, color='b')\n",
        "\n",
        "plt.title('Added new observed values with new forecast')\n",
        "plt.legend()\n",
        "plt.xlabel((0, x_axis.shape[0]))\n",
        "plt.ylabel('Active Cases (DEU)')"
      ],
      "execution_count": null,
      "outputs": [
        {
          "output_type": "execute_result",
          "data": {
            "text/plain": [
              "Text(0, 0.5, 'Active Cases (DEU)')"
            ]
          },
          "metadata": {
            "tags": []
          },
          "execution_count": 23
        },
        {
          "output_type": "display_data",
          "data": {
            "image/png": "[encoded data removed]",
            "text/plain": [
              "<Figure size 1440x1080 with 1 Axes>"
            ]
          },
          "metadata": {
            "tags": [],
            "needs_background": "light"
          }
        }
      ]
    },
    {
      "cell_type": "code",
      "metadata": {
        "id": "kkguky0rqigC",
        "colab_type": "code",
        "colab": {
          "base_uri": "https://localhost:8080/",
          "height": 52
        },
        "outputId": "de55b39c-787f-404c-e28a-985a2418191f"
      },
      "source": [
        "new_forecast"
      ],
      "execution_count": null,
      "outputs": [
        {
          "output_type": "execute_result",
          "data": {
            "text/plain": [
              "array([28196.99240578, 27095.14503572, 25963.30925914, 24851.68426822,\n",
              "       23881.79284115, 23019.01639432, 22217.693388  ])"
            ]
          },
          "metadata": {
            "tags": []
          },
          "execution_count": 24
        }
      ]
    },
    {
      "cell_type": "code",
      "metadata": {
        "id": "Ptkqewv-fwLA",
        "colab_type": "code",
        "colab": {
          "base_uri": "https://localhost:8080/",
          "height": 264
        },
        "outputId": "19e8ce9c-2502-4bf0-dc72-9a8b81c00e48"
      },
      "source": [
        "import datetime\n",
        "\n",
        "start_date = df.index[-1]\n",
        "start_date += datetime.timedelta(days=1)\n",
        "\n",
        "df_forecast_index = pd.date_range(start_date, periods=7, freq='D')\n",
        "# df_forecast_index\n",
        "\n",
        "data = {'Active_Cases':new_forecast}\n",
        "# data\n",
        "\n",
        "df_forecast = pd.DataFrame(data, index = df_forecast_index)\n",
        "df_forecast"
      ],
      "execution_count": null,
      "outputs": [
        {
          "output_type": "execute_result",
          "data": {
            "text/html": [
              "<div>\n",
              "<style scoped>\n",
              "    .dataframe tbody tr th:only-of-type {\n",
              "        vertical-align: middle;\n",
              "    }\n",
              "\n",
              "    .dataframe tbody tr th {\n",
              "        vertical-align: top;\n",
              "    }\n",
              "\n",
              "    .dataframe thead th {\n",
              "        text-align: right;\n",
              "    }\n",
              "</style>\n",
              "<table border=\"1\" class=\"dataframe\">\n",
              "  <thead>\n",
              "    <tr style=\"text-align: right;\">\n",
              "      <th></th>\n",
              "      <th>Active_Cases</th>\n",
              "    </tr>\n",
              "  </thead>\n",
              "  <tbody>\n",
              "    <tr>\n",
              "      <th>2020-05-04</th>\n",
              "      <td>28196.992406</td>\n",
              "    </tr>\n",
              "    <tr>\n",
              "      <th>2020-05-05</th>\n",
              "      <td>27095.145036</td>\n",
              "    </tr>\n",
              "    <tr>\n",
              "      <th>2020-05-06</th>\n",
              "      <td>25963.309259</td>\n",
              "    </tr>\n",
              "    <tr>\n",
              "      <th>2020-05-07</th>\n",
              "      <td>24851.684268</td>\n",
              "    </tr>\n",
              "    <tr>\n",
              "      <th>2020-05-08</th>\n",
              "      <td>23881.792841</td>\n",
              "    </tr>\n",
              "    <tr>\n",
              "      <th>2020-05-09</th>\n",
              "      <td>23019.016394</td>\n",
              "    </tr>\n",
              "    <tr>\n",
              "      <th>2020-05-10</th>\n",
              "      <td>22217.693388</td>\n",
              "    </tr>\n",
              "  </tbody>\n",
              "</table>\n",
              "</div>"
            ],
            "text/plain": [
              "            Active_Cases\n",
              "2020-05-04  28196.992406\n",
              "2020-05-05  27095.145036\n",
              "2020-05-06  25963.309259\n",
              "2020-05-07  24851.684268\n",
              "2020-05-08  23881.792841\n",
              "2020-05-09  23019.016394\n",
              "2020-05-10  22217.693388"
            ]
          },
          "metadata": {
            "tags": []
          },
          "execution_count": 37
        }
      ]
    }
  ]
}