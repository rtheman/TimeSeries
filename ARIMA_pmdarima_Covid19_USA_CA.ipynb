{
  "nbformat": 4,
  "nbformat_minor": 0,
  "metadata": {
    "colab": {
      "name": "ARIMA_pmdarima_Covid19_USA_CA.ipynb",
      "provenance": [],
      "collapsed_sections": [],
      "toc_visible": true,
      "authorship_tag": "ABX9TyObJadeSGligs3miaecF99d",
      "include_colab_link": true
    },
    "kernelspec": {
      "name": "python3",
      "display_name": "Python 3"
    }
  },
  "cells": [
    {
      "cell_type": "markdown",
      "metadata": {
        "id": "view-in-github",
        "colab_type": "text"
      },
      "source": [
        "<a href=\"https://colab.research.google.com/github/rtheman/TimeSeries/blob/master/ARIMA_pmdarima_Covid19_USA_CA.ipynb\" target=\"_parent\"><img src=\"https://colab.research.google.com/assets/colab-badge.svg\" alt=\"Open In Colab\"/></a>"
      ]
    },
    {
      "cell_type": "markdown",
      "metadata": {
        "id": "7Nq7eiVaooNN",
        "colab_type": "text"
      },
      "source": [
        "# ARIMA\n",
        "\n",
        "Inspired by https://alkaline-ml.com/pmdarima/usecases/sun-spots.html#fitting-a-baseline\n",
        "\n",
        "**Dataset**: COVID-19 Active Cases of California, 🇺🇸 (USA) from https://www.worldometers.info/coronavirus/\n",
        "\n",
        "**REF**\n",
        "- Matplotlib https://colab.research.google.com/github/jakevdp/PythonDataScienceHandbook/blob/master/notebooks/04.00-Introduction-To-Matplotlib.ipynb#scrollTo=nQVfJzSfxBre"
      ]
    },
    {
      "cell_type": "markdown",
      "metadata": {
        "id": "63ZMkEx7ovXM",
        "colab_type": "text"
      },
      "source": [
        "# 1.) Init. Environments & Libraries"
      ]
    },
    {
      "cell_type": "code",
      "metadata": {
        "id": "iwA259L_ohML",
        "colab_type": "code",
        "colab": {
          "base_uri": "https://localhost:8080/",
          "height": 332
        },
        "outputId": "deb7c091-7b32-4086-8323-9c81378cc062"
      },
      "source": [
        "import pandas as pd\n",
        "import numpy as np\n",
        "\n",
        "! pip install pmdarima"
      ],
      "execution_count": null,
      "outputs": [
        {
          "output_type": "stream",
          "text": [
            "Collecting pmdarima\n",
            "\u001b[?25l  Downloading https://files.pythonhosted.org/packages/ff/07/7c173cc4fee44ebd62ddf03b3de84c4f151ec23facdf16baf58b8d02784c/pmdarima-1.6.0-cp36-cp36m-manylinux1_x86_64.whl (1.5MB)\n",
            "\u001b[K     |████████████████████████████████| 1.5MB 3.0MB/s \n",
            "\u001b[?25hRequirement already satisfied: statsmodels>=0.10.2 in /usr/local/lib/python3.6/dist-packages (from pmdarima) (0.10.2)\n",
            "Requirement already satisfied: numpy>=1.17.3 in /usr/local/lib/python3.6/dist-packages (from pmdarima) (1.18.3)\n",
            "Requirement already satisfied: urllib3 in /usr/local/lib/python3.6/dist-packages (from pmdarima) (1.24.3)\n",
            "Requirement already satisfied: pandas>=0.19 in /usr/local/lib/python3.6/dist-packages (from pmdarima) (1.0.3)\n",
            "Requirement already satisfied: scipy>=1.3.2 in /usr/local/lib/python3.6/dist-packages (from pmdarima) (1.4.1)\n",
            "Requirement already satisfied: scikit-learn>=0.22 in /usr/local/lib/python3.6/dist-packages (from pmdarima) (0.22.2.post1)\n",
            "Requirement already satisfied: joblib>=0.11 in /usr/local/lib/python3.6/dist-packages (from pmdarima) (0.14.1)\n",
            "Requirement already satisfied: Cython>=0.29 in /usr/local/lib/python3.6/dist-packages (from pmdarima) (0.29.17)\n",
            "Requirement already satisfied: patsy>=0.4.0 in /usr/local/lib/python3.6/dist-packages (from statsmodels>=0.10.2->pmdarima) (0.5.1)\n",
            "Requirement already satisfied: python-dateutil>=2.6.1 in /usr/local/lib/python3.6/dist-packages (from pandas>=0.19->pmdarima) (2.8.1)\n",
            "Requirement already satisfied: pytz>=2017.2 in /usr/local/lib/python3.6/dist-packages (from pandas>=0.19->pmdarima) (2018.9)\n",
            "Requirement already satisfied: six in /usr/local/lib/python3.6/dist-packages (from patsy>=0.4.0->statsmodels>=0.10.2->pmdarima) (1.12.0)\n",
            "Installing collected packages: pmdarima\n",
            "Successfully installed pmdarima-1.6.0\n"
          ],
          "name": "stdout"
        }
      ]
    },
    {
      "cell_type": "markdown",
      "metadata": {
        "id": "KKM3BoY3p80m",
        "colab_type": "text"
      },
      "source": [
        "## a. Mount Google Drive (G-Drive)"
      ]
    },
    {
      "cell_type": "code",
      "metadata": {
        "id": "H_XquSXkpTKI",
        "colab_type": "code",
        "colab": {
          "base_uri": "https://localhost:8080/",
          "height": 124
        },
        "outputId": "e227973c-fe36-4364-8db4-42f64ed76ac5"
      },
      "source": [
        "from google.colab import drive\n",
        "drive.mount('/content/g_drive')"
      ],
      "execution_count": null,
      "outputs": [
        {
          "output_type": "stream",
          "text": [
            "Go to this URL in a browser: https://accounts.google.com/o/oauth2/auth?client_id=947318989803-6bn6qk8qdgf4n4g3pfee6491hc0brc4i.apps.googleusercontent.com&redirect_uri=urn%3aietf%3awg%3aoauth%3a2.0%3aoob&response_type=code&scope=email%20https%3a%2f%2fwww.googleapis.com%2fauth%2fdocs.test%20https%3a%2f%2fwww.googleapis.com%2fauth%2fdrive%20https%3a%2f%2fwww.googleapis.com%2fauth%2fdrive.photos.readonly%20https%3a%2f%2fwww.googleapis.com%2fauth%2fpeopleapi.readonly\n",
            "\n",
            "Enter your authorization code:\n",
            "··········\n",
            "Mounted at /content/g_drive\n"
          ],
          "name": "stdout"
        }
      ]
    },
    {
      "cell_type": "markdown",
      "metadata": {
        "id": "kx0kekSJqS0d",
        "colab_type": "text"
      },
      "source": [
        "## b. Connect Google Cloud Storage (GCS)"
      ]
    },
    {
      "cell_type": "code",
      "metadata": {
        "id": "S4SQwAQ0qAHD",
        "colab_type": "code",
        "colab": {}
      },
      "source": [
        "# from google.colab import auth\n",
        "# auth.authenticate_user()"
      ],
      "execution_count": null,
      "outputs": []
    },
    {
      "cell_type": "markdown",
      "metadata": {
        "id": "zAxYr95kqc9P",
        "colab_type": "text"
      },
      "source": [
        "Paramaterize Project ID and Bucket Name"
      ]
    },
    {
      "cell_type": "code",
      "metadata": {
        "id": "KbHgbp83qdU9",
        "colab_type": "code",
        "colab": {}
      },
      "source": [
        "# project_id = 'rleung-sandbox'\n",
        "# bucket_name = 'samples_data'"
      ],
      "execution_count": null,
      "outputs": []
    },
    {
      "cell_type": "markdown",
      "metadata": {
        "id": "ePFBwerLqo9o",
        "colab_type": "text"
      },
      "source": [
        "# 2.) Download Data"
      ]
    },
    {
      "cell_type": "markdown",
      "metadata": {
        "id": "UQqygv98stmH",
        "colab_type": "text"
      },
      "source": [
        "## a. from G-Drive\n",
        "\n",
        "Init. Parameters"
      ]
    },
    {
      "cell_type": "code",
      "metadata": {
        "id": "dvWnjSTrqmsZ",
        "colab_type": "code",
        "colab": {}
      },
      "source": [
        "data_URL = \"./g_drive/My Drive/Colab Notebooks/data/_Samples/\"\n",
        "data_FileName = \"COVID19_Active_Cases_CA.csv\"\n",
        "path = data_URL + data_FileName"
      ],
      "execution_count": null,
      "outputs": []
    },
    {
      "cell_type": "markdown",
      "metadata": {
        "id": "xH89MGyttBOy",
        "colab_type": "text"
      },
      "source": [
        "Ingest data from G-Drive"
      ]
    },
    {
      "cell_type": "code",
      "metadata": {
        "id": "vYE4Yofxs6kC",
        "colab_type": "code",
        "colab": {
          "base_uri": "https://localhost:8080/",
          "height": 233
        },
        "outputId": "c85a54e6-1a13-4ca0-964f-e0ef8912d3b1"
      },
      "source": [
        "df = pd.read_csv(path, parse_dates=['Dates'], index_col='Dates')\n",
        "df.tail()"
      ],
      "execution_count": null,
      "outputs": [
        {
          "output_type": "execute_result",
          "data": {
            "text/html": [
              "<div>\n",
              "<style scoped>\n",
              "    .dataframe tbody tr th:only-of-type {\n",
              "        vertical-align: middle;\n",
              "    }\n",
              "\n",
              "    .dataframe tbody tr th {\n",
              "        vertical-align: top;\n",
              "    }\n",
              "\n",
              "    .dataframe thead th {\n",
              "        text-align: right;\n",
              "    }\n",
              "</style>\n",
              "<table border=\"1\" class=\"dataframe\">\n",
              "  <thead>\n",
              "    <tr style=\"text-align: right;\">\n",
              "      <th></th>\n",
              "      <th>Active_Cases</th>\n",
              "    </tr>\n",
              "    <tr>\n",
              "      <th>Dates</th>\n",
              "      <th></th>\n",
              "    </tr>\n",
              "  </thead>\n",
              "  <tbody>\n",
              "    <tr>\n",
              "      <th>2020-04-29</th>\n",
              "      <td>41382</td>\n",
              "    </tr>\n",
              "    <tr>\n",
              "      <th>2020-04-30</th>\n",
              "      <td>43006</td>\n",
              "    </tr>\n",
              "    <tr>\n",
              "      <th>2020-05-01</th>\n",
              "      <td>44793</td>\n",
              "    </tr>\n",
              "    <tr>\n",
              "      <th>2020-05-02</th>\n",
              "      <td>46201</td>\n",
              "    </tr>\n",
              "    <tr>\n",
              "      <th>2020-05-03</th>\n",
              "      <td>47525</td>\n",
              "    </tr>\n",
              "  </tbody>\n",
              "</table>\n",
              "</div>"
            ],
            "text/plain": [
              "            Active_Cases\n",
              "Dates                   \n",
              "2020-04-29         41382\n",
              "2020-04-30         43006\n",
              "2020-05-01         44793\n",
              "2020-05-02         46201\n",
              "2020-05-03         47525"
            ]
          },
          "metadata": {
            "tags": []
          },
          "execution_count": 6
        }
      ]
    },
    {
      "cell_type": "markdown",
      "metadata": {
        "id": "cDOFlajuuJ6v",
        "colab_type": "text"
      },
      "source": [
        "# 3.) Explore Data\n",
        "\n",
        "Inspired by https://alkaline-ml.com/pmdarima/usecases/sun-spots.html#fitting-a-baseline"
      ]
    },
    {
      "cell_type": "code",
      "metadata": {
        "id": "9yqduKgEtMHB",
        "colab_type": "code",
        "colab": {
          "base_uri": "https://localhost:8080/",
          "height": 89
        },
        "outputId": "7ec47dc6-950d-432f-e2dc-e219c2ccaa07"
      },
      "source": [
        "import pandas.util.testing as tm\n",
        "import pmdarima as pm\n",
        "from pmdarima.datasets import load_sunspots\n",
        "from pmdarima.model_selection import train_test_split\n",
        "print(f\"Using pmdarima {pm.__version__}\")\n",
        "# Using pmdarima 1.6.0"
      ],
      "execution_count": null,
      "outputs": [
        {
          "output_type": "stream",
          "text": [
            "/usr/local/lib/python3.6/dist-packages/ipykernel_launcher.py:1: FutureWarning: pandas.util.testing is deprecated. Use the functions in the public API at pandas.testing instead.\n",
            "  \"\"\"Entry point for launching an IPython kernel.\n"
          ],
          "name": "stderr"
        },
        {
          "output_type": "stream",
          "text": [
            "Using pmdarima 1.6.0\n"
          ],
          "name": "stdout"
        }
      ]
    },
    {
      "cell_type": "markdown",
      "metadata": {
        "id": "ZUF9bagLvjKB",
        "colab_type": "text"
      },
      "source": [
        "## a. Split dataset into Training and Validation\n",
        "\n",
        "Take last 7-days as Validation dataset, leaving 70-days as Testing dataset."
      ]
    },
    {
      "cell_type": "code",
      "metadata": {
        "id": "eLKcBZrqvn1C",
        "colab_type": "code",
        "colab": {
          "base_uri": "https://localhost:8080/",
          "height": 233
        },
        "outputId": "a236b331-cbaf-4b5a-f507-ede4e1a28212"
      },
      "source": [
        "valid_len = 7\n",
        "train_len = len(df) - valid_len\n",
        "y_train, y_vali = train_test_split(df, train_size=train_len)\n",
        "y_train.tail()"
      ],
      "execution_count": null,
      "outputs": [
        {
          "output_type": "execute_result",
          "data": {
            "text/html": [
              "<div>\n",
              "<style scoped>\n",
              "    .dataframe tbody tr th:only-of-type {\n",
              "        vertical-align: middle;\n",
              "    }\n",
              "\n",
              "    .dataframe tbody tr th {\n",
              "        vertical-align: top;\n",
              "    }\n",
              "\n",
              "    .dataframe thead th {\n",
              "        text-align: right;\n",
              "    }\n",
              "</style>\n",
              "<table border=\"1\" class=\"dataframe\">\n",
              "  <thead>\n",
              "    <tr style=\"text-align: right;\">\n",
              "      <th></th>\n",
              "      <th>Active_Cases</th>\n",
              "    </tr>\n",
              "    <tr>\n",
              "      <th>Dates</th>\n",
              "      <th></th>\n",
              "    </tr>\n",
              "  </thead>\n",
              "  <tbody>\n",
              "    <tr>\n",
              "      <th>2020-04-22</th>\n",
              "      <td>31569</td>\n",
              "    </tr>\n",
              "    <tr>\n",
              "      <th>2020-04-23</th>\n",
              "      <td>32675</td>\n",
              "    </tr>\n",
              "    <tr>\n",
              "      <th>2020-04-24</th>\n",
              "      <td>34299</td>\n",
              "    </tr>\n",
              "    <tr>\n",
              "      <th>2020-04-25</th>\n",
              "      <td>35879</td>\n",
              "    </tr>\n",
              "    <tr>\n",
              "      <th>2020-04-26</th>\n",
              "      <td>37232</td>\n",
              "    </tr>\n",
              "  </tbody>\n",
              "</table>\n",
              "</div>"
            ],
            "text/plain": [
              "            Active_Cases\n",
              "Dates                   \n",
              "2020-04-22         31569\n",
              "2020-04-23         32675\n",
              "2020-04-24         34299\n",
              "2020-04-25         35879\n",
              "2020-04-26         37232"
            ]
          },
          "metadata": {
            "tags": []
          },
          "execution_count": 8
        }
      ]
    },
    {
      "cell_type": "markdown",
      "metadata": {
        "id": "RDPJg_MOvTt0",
        "colab_type": "text"
      },
      "source": [
        "## b. Visualize dataset"
      ]
    },
    {
      "cell_type": "code",
      "metadata": {
        "id": "tC8XPpThuXNy",
        "colab_type": "code",
        "colab": {
          "base_uri": "https://localhost:8080/",
          "height": 441
        },
        "outputId": "aa00760a-354b-4cd3-b55a-06a358aa62ce"
      },
      "source": [
        "from pmdarima.utils import tsdisplay\n",
        "\n",
        "tsdisplay(y_train, lag_max=train_len-1, title=\"COVID-19 Active Cases in Austria\", show=True)"
      ],
      "execution_count": null,
      "outputs": [
        {
          "output_type": "display_data",
          "data": {
            "image/png": "[encoded data removed]",
            "text/plain": [
              "<Figure size 576x432 with 3 Axes>"
            ]
          },
          "metadata": {
            "tags": [],
            "needs_background": "light"
          }
        }
      ]
    },
    {
      "cell_type": "markdown",
      "metadata": {
        "id": "cXXB3N_nZxmP",
        "colab_type": "text"
      },
      "source": [
        "Looking at the histogram. It is very zero-inflated. A lot of the statistical techniques used in time series modeling behave better when the data is **normally distributed**, so this may be something to look into."
      ]
    },
    {
      "cell_type": "markdown",
      "metadata": {
        "id": "WZvf9uKCZ5U9",
        "colab_type": "text"
      },
      "source": [
        "# 4.) Fitting a baseline model\n",
        "\n",
        "Before we start manipulating our data, let’s examine what would happen if we just fit a model straight out of the box:"
      ]
    },
    {
      "cell_type": "code",
      "metadata": {
        "id": "InxYDFX9Ox8c",
        "colab_type": "code",
        "colab": {
          "base_uri": "https://localhost:8080/",
          "height": 800
        },
        "outputId": "3f7c6385-80f5-41fa-de7c-8027e98ea353"
      },
      "source": [
        "fit_base = pm.auto_arima(\n",
        "    y_train,\n",
        "    trace=True,\n",
        "    suppress_warnings=True\n",
        ")\n",
        "\n",
        "print(fit_base.summary())"
      ],
      "execution_count": null,
      "outputs": [
        {
          "output_type": "stream",
          "text": [
            "Performing stepwise search to minimize aic\n",
            "Fit ARIMA(2,2,2)x(0,0,0,0) [intercept=True]; AIC=561.704, BIC=572.409, Time=0.309 seconds\n",
            "Fit ARIMA(0,2,0)x(0,0,0,0) [intercept=True]; AIC=574.940, BIC=578.508, Time=0.008 seconds\n",
            "Fit ARIMA(1,2,0)x(0,0,0,0) [intercept=True]; AIC=568.310, BIC=573.662, Time=0.042 seconds\n",
            "Fit ARIMA(0,2,1)x(0,0,0,0) [intercept=True]; AIC=570.118, BIC=575.471, Time=0.065 seconds\n",
            "Fit ARIMA(0,2,0)x(0,0,0,0) [intercept=False]; AIC=574.247, BIC=576.031, Time=0.008 seconds\n",
            "Fit ARIMA(1,2,2)x(0,0,0,0) [intercept=True]; AIC=561.462, BIC=570.383, Time=0.127 seconds\n",
            "Fit ARIMA(0,2,2)x(0,0,0,0) [intercept=True]; AIC=571.879, BIC=579.016, Time=0.082 seconds\n",
            "Fit ARIMA(1,2,1)x(0,0,0,0) [intercept=True]; AIC=567.762, BIC=574.898, Time=0.171 seconds\n",
            "Fit ARIMA(1,2,3)x(0,0,0,0) [intercept=True]; AIC=558.009, BIC=568.714, Time=0.263 seconds\n",
            "Fit ARIMA(0,2,3)x(0,0,0,0) [intercept=True]; AIC=555.537, BIC=564.458, Time=0.214 seconds\n",
            "Near non-invertible roots for order (0, 2, 3)(0, 0, 0, 0); setting score to inf (at least one inverse root too close to the border of the unit circle: 1.000)\n",
            "Fit ARIMA(2,2,3)x(0,0,0,0) [intercept=True]; AIC=559.868, BIC=572.358, Time=0.312 seconds\n",
            "Fit ARIMA(1,2,4)x(0,0,0,0) [intercept=True]; AIC=559.689, BIC=572.178, Time=0.369 seconds\n",
            "Fit ARIMA(0,2,4)x(0,0,0,0) [intercept=True]; AIC=558.160, BIC=568.865, Time=0.194 seconds\n",
            "Fit ARIMA(2,2,4)x(0,0,0,0) [intercept=True]; AIC=560.820, BIC=575.093, Time=0.417 seconds\n",
            "Near non-invertible roots for order (2, 2, 4)(0, 0, 0, 0); setting score to inf (at least one inverse root too close to the border of the unit circle: 0.993)\n",
            "Total fit time: 2.622 seconds\n",
            "                           Statespace Model Results                           \n",
            "==============================================================================\n",
            "Dep. Variable:                      y   No. Observations:                   46\n",
            "Model:               SARIMAX(0, 2, 3)   Log Likelihood                -272.768\n",
            "Date:                Mon, 04 May 2020   AIC                            555.537\n",
            "Time:                        21:23:47   BIC                            564.458\n",
            "Sample:                             0   HQIC                           558.845\n",
            "                                 - 46                                         \n",
            "Covariance Type:                  opg                                         \n",
            "==============================================================================\n",
            "                 coef    std err          z      P>|z|      [0.025      0.975]\n",
            "------------------------------------------------------------------------------\n",
            "intercept     26.9826     12.198      2.212      0.027       3.075      50.890\n",
            "ma.L1         -0.1352     14.417     -0.009      0.993     -28.392      28.122\n",
            "ma.L2          0.5604     37.707      0.015      0.988     -73.345      74.465\n",
            "ma.L3         -0.7337     35.569     -0.021      0.984     -70.448      68.981\n",
            "sigma2      1.245e+04   6.02e+05      0.021      0.984   -1.17e+06    1.19e+06\n",
            "===================================================================================\n",
            "Ljung-Box (Q):                       22.62   Jarque-Bera (JB):                 3.24\n",
            "Prob(Q):                              0.99   Prob(JB):                         0.20\n",
            "Heteroskedasticity (H):               5.02   Skew:                            -0.33\n",
            "Prob(H) (two-sided):                  0.00   Kurtosis:                         4.15\n",
            "===================================================================================\n",
            "\n",
            "Warnings:\n",
            "[1] Covariance matrix calculated using the outer product of gradients (complex-step).\n"
          ],
          "name": "stdout"
        }
      ]
    },
    {
      "cell_type": "markdown",
      "metadata": {
        "id": "UsDoxUgra5RR",
        "colab_type": "text"
      },
      "source": [
        "# 5.) Transform Data\n",
        "\n",
        "Since we expect our model to perform better over more normal data, let’s experiment with (1.) Log transformations and the (2.) [Box-Cox transformation](https://en.wikipedia.org/wiki/Power_transform#Box%E2%80%93Cox_transformation), each of which is provided as an endogenous transformer in the Pmdarima package."
      ]
    },
    {
      "cell_type": "markdown",
      "metadata": {
        "id": "mKNBWukfby4G",
        "colab_type": "text"
      },
      "source": [
        "## Log Transformation"
      ]
    },
    {
      "cell_type": "code",
      "metadata": {
        "id": "jLTQgfw1avhH",
        "colab_type": "code",
        "colab": {
          "base_uri": "https://localhost:8080/",
          "height": 441
        },
        "outputId": "26a9616e-355e-4f48-e8ff-85448a664b63"
      },
      "source": [
        "from pmdarima.preprocessing import LogEndogTransformer\n",
        "\n",
        "y_train_log, _ = LogEndogTransformer(lmbda=1e-6).fit_transform(y_train)\n",
        "tsdisplay(y_train_log, lag_max=train_len-1)"
      ],
      "execution_count": null,
      "outputs": [
        {
          "output_type": "display_data",
          "data": {
            "image/png": "[encoded data removed]",
            "text/plain": [
              "<Figure size 576x432 with 3 Axes>"
            ]
          },
          "metadata": {
            "tags": [],
            "needs_background": "light"
          }
        }
      ]
    },
    {
      "cell_type": "code",
      "metadata": {
        "id": "Uqz_UaGLSOA9",
        "colab_type": "code",
        "colab": {
          "base_uri": "https://localhost:8080/",
          "height": 34
        },
        "outputId": "6821be47-bf9b-4922-fecd-68d0ab909fb2"
      },
      "source": [
        "from scipy.stats import normaltest\n",
        "normaltest(y_train_log)[1]"
      ],
      "execution_count": null,
      "outputs": [
        {
          "output_type": "execute_result",
          "data": {
            "text/plain": [
              "0.05969526201162195"
            ]
          },
          "metadata": {
            "tags": []
          },
          "execution_count": 12
        }
      ]
    },
    {
      "cell_type": "markdown",
      "metadata": {
        "id": "WZm3Uaxkb3Eo",
        "colab_type": "text"
      },
      "source": [
        "## Box-Cox transformation"
      ]
    },
    {
      "cell_type": "code",
      "metadata": {
        "id": "bcOf6L2pbdUX",
        "colab_type": "code",
        "colab": {
          "base_uri": "https://localhost:8080/",
          "height": 441
        },
        "outputId": "71bca230-5363-420d-c00f-a9c24571a795"
      },
      "source": [
        "from pmdarima.preprocessing import BoxCoxEndogTransformer\n",
        "\n",
        "y_train_bc, _ = BoxCoxEndogTransformer(lmbda2=1e-6).fit_transform(y_train)\n",
        "tsdisplay(y_train_bc, lag_max=train_len-1)"
      ],
      "execution_count": null,
      "outputs": [
        {
          "output_type": "display_data",
          "data": {
            "image/png": "[encoded data removed]",
            "text/plain": [
              "<Figure size 576x432 with 3 Axes>"
            ]
          },
          "metadata": {
            "tags": [],
            "needs_background": "light"
          }
        }
      ]
    },
    {
      "cell_type": "code",
      "metadata": {
        "id": "iq5GmlBUSWic",
        "colab_type": "code",
        "colab": {
          "base_uri": "https://localhost:8080/",
          "height": 34
        },
        "outputId": "12861551-cabc-4f25-cf19-b83b6e67c642"
      },
      "source": [
        "normaltest(y_train_bc)[1]"
      ],
      "execution_count": null,
      "outputs": [
        {
          "output_type": "execute_result",
          "data": {
            "text/plain": [
              "0.00011349285815538675"
            ]
          },
          "metadata": {
            "tags": []
          },
          "execution_count": 14
        }
      ]
    },
    {
      "cell_type": "markdown",
      "metadata": {
        "id": "D886y5Zm4NnU",
        "colab_type": "text"
      },
      "source": [
        "# 6.) Fitting a transformed model\n",
        "\n",
        "Pmdarima implements a scikit-learn-esque pipeline used to chain transformations and estimators together. Using this, we can centralize the entire transformer/model fit into one metaestimator:"
      ]
    },
    {
      "cell_type": "markdown",
      "metadata": {
        "id": "snl3uQAeSt50",
        "colab_type": "text"
      },
      "source": [
        "## a. Log Transformation"
      ]
    },
    {
      "cell_type": "code",
      "metadata": {
        "id": "uzwn_eQWTH_Z",
        "colab_type": "code",
        "colab": {
          "base_uri": "https://localhost:8080/",
          "height": 658
        },
        "outputId": "011dcb9e-0254-48be-853e-0c27ccd8b7e0"
      },
      "source": [
        "from pmdarima.pipeline import Pipeline\n",
        "\n",
        "fit_log = Pipeline([\n",
        "    ('log', LogEndogTransformer(lmbda=1e-6)),\n",
        "    ('arima', pm.AutoARIMA(trace=True,\n",
        "                           suppress_warnings=True\n",
        "                           )\n",
        "    )\n",
        "])\n",
        "\n",
        "fit_log.fit(y_train)\n",
        "\n",
        "print(fit_log.summary())"
      ],
      "execution_count": null,
      "outputs": [
        {
          "output_type": "stream",
          "text": [
            "Performing stepwise search to minimize aic\n",
            "Fit ARIMA(2,2,2)x(0,0,0,0) [intercept=True]; AIC=-79.494, BIC=-68.789, Time=0.423 seconds\n",
            "Fit ARIMA(0,2,0)x(0,0,0,0) [intercept=True]; AIC=-72.440, BIC=-68.871, Time=0.072 seconds\n",
            "Fit ARIMA(1,2,0)x(0,0,0,0) [intercept=True]; AIC=-76.298, BIC=-70.945, Time=0.182 seconds\n",
            "Fit ARIMA(0,2,1)x(0,0,0,0) [intercept=True]; AIC=-81.076, BIC=-75.723, Time=0.241 seconds\n",
            "Fit ARIMA(0,2,0)x(0,0,0,0) [intercept=False]; AIC=-73.212, BIC=-71.427, Time=0.011 seconds\n",
            "Fit ARIMA(1,2,1)x(0,0,0,0) [intercept=True]; AIC=-83.271, BIC=-76.134, Time=0.178 seconds\n",
            "Fit ARIMA(2,2,1)x(0,0,0,0) [intercept=True]; AIC=-82.329, BIC=-73.408, Time=0.300 seconds\n",
            "Fit ARIMA(1,2,2)x(0,0,0,0) [intercept=True]; AIC=-77.245, BIC=-68.324, Time=0.225 seconds\n",
            "Fit ARIMA(0,2,2)x(0,0,0,0) [intercept=True]; AIC=-81.789, BIC=-74.652, Time=0.390 seconds\n",
            "Fit ARIMA(2,2,0)x(0,0,0,0) [intercept=True]; AIC=-80.412, BIC=-73.275, Time=0.217 seconds\n",
            "Total fit time: 2.249 seconds\n",
            "                           Statespace Model Results                           \n",
            "==============================================================================\n",
            "Dep. Variable:                      y   No. Observations:                   46\n",
            "Model:               SARIMAX(1, 2, 1)   Log Likelihood                  45.636\n",
            "Date:                Mon, 04 May 2020   AIC                            -83.271\n",
            "Time:                        21:24:08   BIC                            -76.134\n",
            "Sample:                             0   HQIC                           -80.624\n",
            "                                 - 46                                         \n",
            "Covariance Type:                  opg                                         \n",
            "==============================================================================\n",
            "                 coef    std err          z      P>|z|      [0.025      0.975]\n",
            "------------------------------------------------------------------------------\n",
            "intercept     -0.0104      0.003     -3.245      0.001      -0.017      -0.004\n",
            "ar.L1         -0.7804      0.054    -14.429      0.000      -0.886      -0.674\n",
            "ma.L1         -0.9121      0.260     -3.512      0.000      -1.421      -0.403\n",
            "sigma2         0.0067      0.002      3.767      0.000       0.003       0.010\n",
            "===================================================================================\n",
            "Ljung-Box (Q):                      140.55   Jarque-Bera (JB):               198.16\n",
            "Prob(Q):                              0.00   Prob(JB):                         0.00\n",
            "Heteroskedasticity (H):               0.10   Skew:                            -2.56\n",
            "Prob(H) (two-sided):                  0.00   Kurtosis:                        12.05\n",
            "===================================================================================\n",
            "\n",
            "Warnings:\n",
            "[1] Covariance matrix calculated using the outer product of gradients (complex-step).\n"
          ],
          "name": "stdout"
        }
      ]
    },
    {
      "cell_type": "markdown",
      "metadata": {
        "id": "C-rjUNA1S0L9",
        "colab_type": "text"
      },
      "source": [
        "## b. Box-Cox Transformation"
      ]
    },
    {
      "cell_type": "code",
      "metadata": {
        "id": "NLQ2piM0cL7A",
        "colab_type": "code",
        "colab": {
          "base_uri": "https://localhost:8080/",
          "height": 644
        },
        "outputId": "53288823-b9c0-4734-8a5f-ae98c4c2fb27"
      },
      "source": [
        "fit_boxcox = Pipeline([\n",
        "    ('boxcox', BoxCoxEndogTransformer(lmbda2=1e-6)),\n",
        "    ('arima', pm.AutoARIMA(trace=True,\n",
        "                           suppress_warnings=True\n",
        "                           )\n",
        "    )\n",
        "])\n",
        "\n",
        "fit_boxcox.fit(y_train)\n",
        "\n",
        "print(fit_boxcox.summary())"
      ],
      "execution_count": null,
      "outputs": [
        {
          "output_type": "stream",
          "text": [
            "Performing stepwise search to minimize aic\n",
            "Fit ARIMA(2,2,2)x(0,0,0,0) [intercept=True]; AIC=79.259, BIC=89.964, Time=0.339 seconds\n",
            "Fit ARIMA(0,2,0)x(0,0,0,0) [intercept=True]; AIC=79.719, BIC=83.287, Time=0.017 seconds\n",
            "Fit ARIMA(1,2,0)x(0,0,0,0) [intercept=True]; AIC=77.626, BIC=82.979, Time=0.051 seconds\n",
            "Fit ARIMA(0,2,1)x(0,0,0,0) [intercept=True]; AIC=76.193, BIC=81.546, Time=0.061 seconds\n",
            "Fit ARIMA(0,2,0)x(0,0,0,0) [intercept=False]; AIC=78.354, BIC=80.139, Time=0.009 seconds\n",
            "Fit ARIMA(1,2,1)x(0,0,0,0) [intercept=True]; AIC=76.434, BIC=83.571, Time=0.196 seconds\n",
            "Near non-invertible roots for order (1, 2, 1)(0, 0, 0, 0); setting score to inf (at least one inverse root too close to the border of the unit circle: 0.998)\n",
            "Fit ARIMA(0,2,2)x(0,0,0,0) [intercept=True]; AIC=78.168, BIC=85.304, Time=0.078 seconds\n",
            "Fit ARIMA(1,2,2)x(0,0,0,0) [intercept=True]; AIC=80.019, BIC=88.940, Time=0.160 seconds\n",
            "Total fit time: 0.921 seconds\n",
            "                           Statespace Model Results                           \n",
            "==============================================================================\n",
            "Dep. Variable:                      y   No. Observations:                   46\n",
            "Model:               SARIMAX(0, 2, 1)   Log Likelihood                 -35.097\n",
            "Date:                Mon, 04 May 2020   AIC                             76.193\n",
            "Time:                        21:24:12   BIC                             81.546\n",
            "Sample:                             0   HQIC                            78.178\n",
            "                                 - 46                                         \n",
            "Covariance Type:                  opg                                         \n",
            "==============================================================================\n",
            "                 coef    std err          z      P>|z|      [0.025      0.975]\n",
            "------------------------------------------------------------------------------\n",
            "intercept     -0.0275      0.058     -0.473      0.637      -0.142       0.087\n",
            "ma.L1         -0.6323      0.165     -3.843      0.000      -0.955      -0.310\n",
            "sigma2         0.2853      0.042      6.723      0.000       0.202       0.368\n",
            "===================================================================================\n",
            "Ljung-Box (Q):                       37.38   Jarque-Bera (JB):               481.45\n",
            "Prob(Q):                              0.59   Prob(JB):                         0.00\n",
            "Heteroskedasticity (H):               0.05   Skew:                            -3.18\n",
            "Prob(H) (two-sided):                  0.00   Kurtosis:                        17.91\n",
            "===================================================================================\n",
            "\n",
            "Warnings:\n",
            "[1] Covariance matrix calculated using the outer product of gradients (complex-step).\n"
          ],
          "name": "stdout"
        }
      ]
    },
    {
      "cell_type": "markdown",
      "metadata": {
        "id": "HFfsQghJ7Q3T",
        "colab_type": "text"
      },
      "source": [
        "# 7.) Forecast\n",
        "\n",
        "Forecast the next 7-days"
      ]
    },
    {
      "cell_type": "code",
      "metadata": {
        "id": "aF0JZm1Y5Eou",
        "colab_type": "code",
        "colab": {
          "base_uri": "https://localhost:8080/",
          "height": 86
        },
        "outputId": "b3e4477e-9a68-4b01-eeed-6350cefa6741"
      },
      "source": [
        "# Forecast\n",
        "import numpy as np\n",
        "\n",
        "model = fit_base\n",
        "forecast, conf_int = model.predict(n_periods=valid_len, return_conf_int=True)\n",
        "print(\"\\nForecasts:\")\n",
        "print(forecast)"
      ],
      "execution_count": null,
      "outputs": [
        {
          "output_type": "stream",
          "text": [
            "\n",
            "Forecasts:\n",
            "[38497.52329315 39630.16948443 41007.90843526 42412.62993695\n",
            " 43844.33398949 45303.02059288 46788.68974713]\n"
          ],
          "name": "stdout"
        }
      ]
    },
    {
      "cell_type": "markdown",
      "metadata": {
        "id": "khOHQzYH856-",
        "colab_type": "text"
      },
      "source": [
        "## a. Visualize Forecast"
      ]
    },
    {
      "cell_type": "markdown",
      "metadata": {
        "id": "syuNJfuoXvYl",
        "colab_type": "text"
      },
      "source": [
        "### Set-up Plots"
      ]
    },
    {
      "cell_type": "code",
      "metadata": {
        "id": "eWJRX5c-X0zQ",
        "colab_type": "code",
        "colab": {
          "base_uri": "https://localhost:8080/",
          "height": 245
        },
        "outputId": "f0e7c8a5-091d-43ff-b391-5da16c69c6bf"
      },
      "source": [
        "import matplotlib as mpl\n",
        "import matplotlib.pyplot as plt\n",
        "\n",
        "! pip install mplcursors\n",
        "import mplcursors\n",
        "\n",
        "%matplotlib inline\n",
        "\n",
        "plt.figure()  # create a plot figure\n",
        "mpl.rcParams['figure.figsize'] = (20, 15)"
      ],
      "execution_count": null,
      "outputs": [
        {
          "output_type": "stream",
          "text": [
            "Collecting mplcursors\n",
            "  Downloading https://files.pythonhosted.org/packages/5e/5f/3853620d0e04b893318e3ba20c0da1f24b56d5f2a08f7a2adf5ba86ea1c0/mplcursors-0.3-py3-none-any.whl\n",
            "Requirement already satisfied: matplotlib>=3.1 in /usr/local/lib/python3.6/dist-packages (from mplcursors) (3.2.1)\n",
            "Requirement already satisfied: pyparsing!=2.0.4,!=2.1.2,!=2.1.6,>=2.0.1 in /usr/local/lib/python3.6/dist-packages (from matplotlib>=3.1->mplcursors) (2.4.7)\n",
            "Requirement already satisfied: kiwisolver>=1.0.1 in /usr/local/lib/python3.6/dist-packages (from matplotlib>=3.1->mplcursors) (1.2.0)\n",
            "Requirement already satisfied: cycler>=0.10 in /usr/local/lib/python3.6/dist-packages (from matplotlib>=3.1->mplcursors) (0.10.0)\n",
            "Requirement already satisfied: numpy>=1.11 in /usr/local/lib/python3.6/dist-packages (from matplotlib>=3.1->mplcursors) (1.18.3)\n",
            "Requirement already satisfied: python-dateutil>=2.1 in /usr/local/lib/python3.6/dist-packages (from matplotlib>=3.1->mplcursors) (2.8.1)\n",
            "Requirement already satisfied: six in /usr/local/lib/python3.6/dist-packages (from cycler>=0.10->matplotlib>=3.1->mplcursors) (1.12.0)\n",
            "Installing collected packages: mplcursors\n",
            "Successfully installed mplcursors-0.3\n"
          ],
          "name": "stdout"
        },
        {
          "output_type": "display_data",
          "data": {
            "text/plain": [
              "<Figure size 432x288 with 0 Axes>"
            ]
          },
          "metadata": {
            "tags": []
          }
        }
      ]
    },
    {
      "cell_type": "markdown",
      "metadata": {
        "id": "On16NtdMX4hG",
        "colab_type": "text"
      },
      "source": [
        "### Visualize Goodness of Fit"
      ]
    },
    {
      "cell_type": "code",
      "metadata": {
        "id": "MC65xhsdX8mg",
        "colab_type": "code",
        "colab": {}
      },
      "source": [
        "# Visualize goodness of fit\n",
        "in_sample_forecast, in_sample_confint = model.predict_in_sample(exogenous=None, return_conf_int=True)"
      ],
      "execution_count": null,
      "outputs": []
    },
    {
      "cell_type": "markdown",
      "metadata": {
        "id": "OyrmGosXX-0s",
        "colab_type": "text"
      },
      "source": [
        "### Actual vs. Forecast w/ Test Dataset"
      ]
    },
    {
      "cell_type": "code",
      "metadata": {
        "id": "NqtbwDyM81g8",
        "colab_type": "code",
        "colab": {
          "base_uri": "https://localhost:8080/",
          "height": 906
        },
        "outputId": "4f77d345-1c5b-4eaa-d813-0149650cfe7f"
      },
      "source": [
        "# Now plot the results and the forecast for the test set\n",
        "x_axis = np.arange(y_train.shape[0] + forecast.shape[0])\n",
        "\n",
        "# Training data\n",
        "plt.plot(x_axis[:y_train.shape[0]], y_train, alpha=0.75, label='Training')\n",
        "# Forecast from ARIMA model\n",
        "plt.scatter(x_axis[y_train.shape[0]:], forecast, alpha=0.4, marker='o', label='Forecast')\n",
        "plt.fill_between(x_axis[-forecast.shape[0]:], conf_int[:, 0], conf_int[:, 1], alpha=0.1, color='b')\n",
        "# Validation data\n",
        "plt.scatter(x_axis[y_train.shape[0]:], y_vali, alpha=0.4, marker='x', label='Validation')\n",
        "# In-Samples Forecast\n",
        "plt.scatter(x_axis[:in_sample_forecast.shape[0]], in_sample_forecast, alpha=0.4, marker='x', label=\"In-Sample Forecast\")\n",
        "plt.fill_between(x_axis[:in_sample_forecast.shape[0]], in_sample_confint[:, 0], in_sample_confint[:, 1], alpha=0.1, color='c')\n",
        "\n",
        "plt.title('Train Samples & Forecasted Test Samples')\n",
        "plt.legend()\n",
        "plt.xlabel((0, x_axis.shape[0]))\n",
        "plt.ylabel('Active Cases (CA, USA)')\n",
        "mplcursors.cursor(hover=True)\n",
        "# mplcursors.cursor()"
      ],
      "execution_count": null,
      "outputs": [
        {
          "output_type": "execute_result",
          "data": {
            "text/plain": [
              "<mplcursors._mplcursors.Cursor at 0x7ff975517dd8>"
            ]
          },
          "metadata": {
            "tags": []
          },
          "execution_count": 22
        },
        {
          "output_type": "display_data",
          "data": {
            "image/png": "[encoded data removed]",
            "text/plain": [
              "<Figure size 1440x1080 with 1 Axes>"
            ]
          },
          "metadata": {
            "tags": [],
            "needs_background": "light"
          }
        }
      ]
    },
    {
      "cell_type": "markdown",
      "metadata": {
        "id": "cw8Ae8vzYLtp",
        "colab_type": "text"
      },
      "source": [
        "### Comparison btw Actuals & Forecast"
      ]
    },
    {
      "cell_type": "code",
      "metadata": {
        "id": "tzLOTobDILRW",
        "colab_type": "code",
        "colab": {
          "base_uri": "https://localhost:8080/",
          "height": 294
        },
        "outputId": "83c693ac-d2bf-4590-d838-6491e149c4e3"
      },
      "source": [
        "df_fcast = y_vali.copy()\n",
        "df_fcast['Forecast'] = forecast\n",
        "df_fcast['difference'] = df_fcast['Forecast'] - df_fcast['Active_Cases']\n",
        "df_fcast"
      ],
      "execution_count": null,
      "outputs": [
        {
          "output_type": "execute_result",
          "data": {
            "text/html": [
              "<div>\n",
              "<style scoped>\n",
              "    .dataframe tbody tr th:only-of-type {\n",
              "        vertical-align: middle;\n",
              "    }\n",
              "\n",
              "    .dataframe tbody tr th {\n",
              "        vertical-align: top;\n",
              "    }\n",
              "\n",
              "    .dataframe thead th {\n",
              "        text-align: right;\n",
              "    }\n",
              "</style>\n",
              "<table border=\"1\" class=\"dataframe\">\n",
              "  <thead>\n",
              "    <tr style=\"text-align: right;\">\n",
              "      <th></th>\n",
              "      <th>Active_Cases</th>\n",
              "      <th>Forecast</th>\n",
              "      <th>difference</th>\n",
              "    </tr>\n",
              "    <tr>\n",
              "      <th>Dates</th>\n",
              "      <th></th>\n",
              "      <th></th>\n",
              "      <th></th>\n",
              "    </tr>\n",
              "  </thead>\n",
              "  <tbody>\n",
              "    <tr>\n",
              "      <th>2020-04-27</th>\n",
              "      <td>38569</td>\n",
              "      <td>38497.523293</td>\n",
              "      <td>-71.476707</td>\n",
              "    </tr>\n",
              "    <tr>\n",
              "      <th>2020-04-28</th>\n",
              "      <td>39781</td>\n",
              "      <td>39630.169484</td>\n",
              "      <td>-150.830516</td>\n",
              "    </tr>\n",
              "    <tr>\n",
              "      <th>2020-04-29</th>\n",
              "      <td>41382</td>\n",
              "      <td>41007.908435</td>\n",
              "      <td>-374.091565</td>\n",
              "    </tr>\n",
              "    <tr>\n",
              "      <th>2020-04-30</th>\n",
              "      <td>43006</td>\n",
              "      <td>42412.629937</td>\n",
              "      <td>-593.370063</td>\n",
              "    </tr>\n",
              "    <tr>\n",
              "      <th>2020-05-01</th>\n",
              "      <td>44793</td>\n",
              "      <td>43844.333989</td>\n",
              "      <td>-948.666011</td>\n",
              "    </tr>\n",
              "    <tr>\n",
              "      <th>2020-05-02</th>\n",
              "      <td>46201</td>\n",
              "      <td>45303.020593</td>\n",
              "      <td>-897.979407</td>\n",
              "    </tr>\n",
              "    <tr>\n",
              "      <th>2020-05-03</th>\n",
              "      <td>47525</td>\n",
              "      <td>46788.689747</td>\n",
              "      <td>-736.310253</td>\n",
              "    </tr>\n",
              "  </tbody>\n",
              "</table>\n",
              "</div>"
            ],
            "text/plain": [
              "            Active_Cases      Forecast  difference\n",
              "Dates                                             \n",
              "2020-04-27         38569  38497.523293  -71.476707\n",
              "2020-04-28         39781  39630.169484 -150.830516\n",
              "2020-04-29         41382  41007.908435 -374.091565\n",
              "2020-04-30         43006  42412.629937 -593.370063\n",
              "2020-05-01         44793  43844.333989 -948.666011\n",
              "2020-05-02         46201  45303.020593 -897.979407\n",
              "2020-05-03         47525  46788.689747 -736.310253"
            ]
          },
          "metadata": {
            "tags": []
          },
          "execution_count": 23
        }
      ]
    },
    {
      "cell_type": "markdown",
      "metadata": {
        "id": "sOEeTd5mYT_c",
        "colab_type": "text"
      },
      "source": [
        "## b. Update Forecast"
      ]
    },
    {
      "cell_type": "markdown",
      "metadata": {
        "id": "8yjymsYLYYbV",
        "colab_type": "text"
      },
      "source": [
        "### Add the actual samples (validation dataset) to the model and crate NEW forecast"
      ]
    },
    {
      "cell_type": "code",
      "metadata": {
        "id": "8LfBc9gXYSBi",
        "colab_type": "code",
        "colab": {
          "base_uri": "https://localhost:8080/",
          "height": 86
        },
        "outputId": "c7fde45c-86d2-4b08-d32b-102f19c8b27e"
      },
      "source": [
        "fit_base.update(y_vali)\n",
        "\n",
        "model = fit_base\n",
        "\n",
        "new_forecast, new_conf_int  = model.predict(n_periods=valid_len, return_conf_int=True)\n",
        "print(\"\\nNew Forecast:\")\n",
        "print(new_forecast)"
      ],
      "execution_count": null,
      "outputs": [
        {
          "output_type": "stream",
          "text": [
            "\n",
            "New Forecast:\n",
            "[48652.22000525 49957.19273137 51415.86995939 52901.52902684\n",
            " 54414.16993373 55953.79268006 57520.39726582]\n"
          ],
          "name": "stdout"
        }
      ]
    },
    {
      "cell_type": "markdown",
      "metadata": {
        "id": "aWiNQM3HYiq0",
        "colab_type": "text"
      },
      "source": [
        "### Actual vs (New) Forecast"
      ]
    },
    {
      "cell_type": "code",
      "metadata": {
        "id": "28ffpLgfYfP-",
        "colab_type": "code",
        "colab": {
          "base_uri": "https://localhost:8080/",
          "height": 906
        },
        "outputId": "e44a2e29-bd4f-436c-9626-4d2293558f3d"
      },
      "source": [
        "# Now Plot results and the new forecast\n",
        "new_x_axis = np.arange(df.shape[0] + valid_len)\n",
        "\n",
        "# Training (Actual) data\n",
        "plt.plot(new_x_axis[:df.shape[0]], df, alpha=0.75, label='Actual')\n",
        "# New Forecast data\n",
        "plt.scatter(new_x_axis[df.shape[0]:], new_forecast, alpha=0.4, marker='o', label='Forecast')\n",
        "plt.fill_between(new_x_axis[-forecast.shape[0]:], new_conf_int[:, 0], new_conf_int[:, 1], alpha=0.1, color='b')\n",
        "\n",
        "plt.title('Added new observed values with new forecast')\n",
        "plt.legend()\n",
        "plt.xlabel((0, x_axis.shape[0]))\n",
        "plt.ylabel('Active Cases (CA, USA)')"
      ],
      "execution_count": null,
      "outputs": [
        {
          "output_type": "execute_result",
          "data": {
            "text/plain": [
              "Text(0, 0.5, 'Active Cases (CA, USA)')"
            ]
          },
          "metadata": {
            "tags": []
          },
          "execution_count": 25
        },
        {
          "output_type": "display_data",
          "data": {
            "image/png": "[encoded data removed]",
            "text/plain": [
              "<Figure size 1440x1080 with 1 Axes>"
            ]
          },
          "metadata": {
            "tags": [],
            "needs_background": "light"
          }
        }
      ]
    },
    {
      "cell_type": "code",
      "metadata": {
        "id": "J3w3F8mFZFZO",
        "colab_type": "code",
        "colab": {
          "base_uri": "https://localhost:8080/",
          "height": 264
        },
        "outputId": "473e596e-606e-4637-9bd2-191bb63772ad"
      },
      "source": [
        "import datetime\n",
        "\n",
        "start_date = df.index[-1]\n",
        "start_date += datetime.timedelta(days=1)\n",
        "\n",
        "df_forecast_index = pd.date_range(start_date, periods=7, freq='D')\n",
        "# df_forecast_index\n",
        "\n",
        "data = {'Active_Cases':new_forecast}\n",
        "# data\n",
        "\n",
        "df_forecast = pd.DataFrame(data, index = df_forecast_index)\n",
        "df_forecast"
      ],
      "execution_count": null,
      "outputs": [
        {
          "output_type": "execute_result",
          "data": {
            "text/html": [
              "<div>\n",
              "<style scoped>\n",
              "    .dataframe tbody tr th:only-of-type {\n",
              "        vertical-align: middle;\n",
              "    }\n",
              "\n",
              "    .dataframe tbody tr th {\n",
              "        vertical-align: top;\n",
              "    }\n",
              "\n",
              "    .dataframe thead th {\n",
              "        text-align: right;\n",
              "    }\n",
              "</style>\n",
              "<table border=\"1\" class=\"dataframe\">\n",
              "  <thead>\n",
              "    <tr style=\"text-align: right;\">\n",
              "      <th></th>\n",
              "      <th>Active_Cases</th>\n",
              "    </tr>\n",
              "  </thead>\n",
              "  <tbody>\n",
              "    <tr>\n",
              "      <th>2020-05-04</th>\n",
              "      <td>48652.220005</td>\n",
              "    </tr>\n",
              "    <tr>\n",
              "      <th>2020-05-05</th>\n",
              "      <td>49957.192731</td>\n",
              "    </tr>\n",
              "    <tr>\n",
              "      <th>2020-05-06</th>\n",
              "      <td>51415.869959</td>\n",
              "    </tr>\n",
              "    <tr>\n",
              "      <th>2020-05-07</th>\n",
              "      <td>52901.529027</td>\n",
              "    </tr>\n",
              "    <tr>\n",
              "      <th>2020-05-08</th>\n",
              "      <td>54414.169934</td>\n",
              "    </tr>\n",
              "    <tr>\n",
              "      <th>2020-05-09</th>\n",
              "      <td>55953.792680</td>\n",
              "    </tr>\n",
              "    <tr>\n",
              "      <th>2020-05-10</th>\n",
              "      <td>57520.397266</td>\n",
              "    </tr>\n",
              "  </tbody>\n",
              "</table>\n",
              "</div>"
            ],
            "text/plain": [
              "            Active_Cases\n",
              "2020-05-04  48652.220005\n",
              "2020-05-05  49957.192731\n",
              "2020-05-06  51415.869959\n",
              "2020-05-07  52901.529027\n",
              "2020-05-08  54414.169934\n",
              "2020-05-09  55953.792680\n",
              "2020-05-10  57520.397266"
            ]
          },
          "metadata": {
            "tags": []
          },
          "execution_count": 27
        }
      ]
    },
    {
      "cell_type": "code",
      "metadata": {
        "id": "RJjVCLShlE4V",
        "colab_type": "code",
        "colab": {}
      },
      "source": [
        ""
      ],
      "execution_count": null,
      "outputs": []
    }
  ]
}